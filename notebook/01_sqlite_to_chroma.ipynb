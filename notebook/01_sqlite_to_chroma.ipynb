{
 "cells": [
  {
   "cell_type": "markdown",
   "id": "8a85c368",
   "metadata": {},
   "source": [
    "API 키 로드\n",
    "`.env` 에 설정되어 있어야 합니다.\n",
    "```\n",
    "OPENAI_API_KEY=sk-proj-******** # Your Key\n",
    "```"
   ]
  },
  {
   "cell_type": "code",
   "execution_count": 1,
   "id": "a38267c1",
   "metadata": {},
   "outputs": [
    {
     "data": {
      "text/plain": [
       "True"
      ]
     },
     "execution_count": 1,
     "metadata": {},
     "output_type": "execute_result"
    }
   ],
   "source": [
    "from dotenv import load_dotenv\n",
    "\n",
    "# API 키 정보 로드\n",
    "load_dotenv()"
   ]
  },
  {
   "cell_type": "markdown",
   "id": "af18a1b2",
   "metadata": {},
   "source": []
  },
  {
   "cell_type": "code",
   "execution_count": null,
   "id": "ef9e0dff",
   "metadata": {},
   "outputs": [
    {
     "ename": "OperationalError",
     "evalue": "unable to open database file",
     "output_type": "error",
     "traceback": [
      "\u001b[31m---------------------------------------------------------------------------\u001b[39m",
      "\u001b[31mOperationalError\u001b[39m                          Traceback (most recent call last)",
      "\u001b[36mCell\u001b[39m\u001b[36m \u001b[39m\u001b[32mIn[3]\u001b[39m\u001b[32m, line 5\u001b[39m\n\u001b[32m      3\u001b[39m \u001b[38;5;66;03m# 데이터베이스 연결 정보\u001b[39;00m\n\u001b[32m      4\u001b[39m db_path = \u001b[33m\"\u001b[39m\u001b[33m./data/database.sqlite\u001b[39m\u001b[33m\"\u001b[39m\n\u001b[32m----> \u001b[39m\u001b[32m5\u001b[39m connection = \u001b[43msqlite3\u001b[49m\u001b[43m.\u001b[49m\u001b[43mconnect\u001b[49m\u001b[43m(\u001b[49m\u001b[43mdb_path\u001b[49m\u001b[43m)\u001b[49m\n\u001b[32m      6\u001b[39m cursor = connection.cursor()\n\u001b[32m      8\u001b[39m \u001b[38;5;66;03m# Reviews 테이블에서 최대 1000개 행 조회 쿼리\u001b[39;00m\n",
      "\u001b[31mOperationalError\u001b[39m: unable to open database file"
     ]
    }
   ],
   "source": [
    "# 1. 데이터베이스 연결\n",
    "import sqlite3\n",
    "\n",
    "# 데이터베이스 연결 정보\n",
    "db_path = \"../data/database.sqlite\"\n",
    "connection = sqlite3.connect(db_path)\n",
    "cursor = connection.cursor()\n",
    "\n",
    "# Reviews 테이블에서 최대 1000개 행 조회 쿼리\n",
    "cursor.execute(\"SELECT asin AS GOODS_NO, title AS GOODS_NM FROM Product LIMIT 1000\")\n",
    "rows = cursor.fetchall()\n",
    "\n",
    "# 연결 종료\n",
    "cursor.close()\n",
    "connection.close()\n",
    "\n",
    "# documents 리스트 생성\n",
    "documents = []\n",
    "metadatas = []\n",
    "ids = []\n",
    "\n",
    "for row in rows:\n",
    "    GOODS_NO, GOODS_NM = row\n",
    "    metadatas.append({\"GOODS_NO\": GOODS_NO})\n",
    "    documents.append(GOODS_NM)\n",
    "    ids.append(str(GOODS_NO))\n",
    "\n",
    "documents"
   ]
  },
  {
   "cell_type": "code",
   "execution_count": 3,
   "id": "fbe449e2",
   "metadata": {},
   "outputs": [],
   "source": [
    "# 2. OpenAI 임베딩 객체 생성 (model 지정)\n",
    "from langchain_openai.embeddings import OpenAIEmbeddings\n",
    "\n",
    "# OpenAI 임베딩 객체 생성 (model 지정)\n",
    "embeddings = OpenAIEmbeddings(model=\"text-embedding-3-small\")  # 1536 차원\n",
    "\n",
    "# dimensions 파라미터 설정 (원하는 차원 수로 축소)\n",
    "# embeddings = OpenAIEmbeddings(\n",
    "#     model=\"text-embedding-3-small\",\n",
    "#     dimensions=512  # 512 차원으로 축소 (최대 1536까지 가능)\n",
    "# )"
   ]
  },
  {
   "cell_type": "code",
   "execution_count": 7,
   "id": "0a1869c4",
   "metadata": {},
   "outputs": [
    {
     "name": "stdout",
     "output_type": "stream",
     "text": [
      "총 10개의 상품 정보가 ChromaDB에 저장되었습니다.\n"
     ]
    }
   ],
   "source": [
    "# 3. Vectorstore 저장\n",
    "from langchain_community.vectorstores import Chroma\n",
    "\n",
    "# ChromaDB 경로 설정\n",
    "persist_directory = \"./.chroma_db\"\n",
    "\n",
    "# ChromaDB에 저장\n",
    "# 기존 컬렉션이 있으면 불러오고, 없으면 새로 생성\n",
    "vectorstore = Chroma.from_texts(\n",
    "    texts=documents,\n",
    "    embedding=embeddings,\n",
    "    metadatas=metadatas,\n",
    "    ids=ids,\n",
    "    persist_directory=persist_directory,\n",
    "    collection_name=\"product_collection\",\n",
    ")\n",
    "\n",
    "# 변경사항 저장\n",
    "vectorstore.persist()\n",
    "\n",
    "print(f\"총 {len(documents)}개의 상품 정보가 ChromaDB에 저장되었습니다.\")"
   ]
  },
  {
   "cell_type": "code",
   "execution_count": 8,
   "id": "56e1c4b0",
   "metadata": {},
   "outputs": [
    {
     "name": "stdout",
     "output_type": "stream",
     "text": [
      "'단면'와 유사한 상품 검색 결과 (최대 5개):\n",
      "------------------------------------------------------------\n",
      "[결과 1]\n",
      "상품명: 단면쇼케이스140X100(A1410)\n",
      "상품번호: 0000000404\n",
      "유사도 점수: 1.187435637347616\n",
      "------------------------------------------------------------\n",
      "[결과 2]\n",
      "상품명: 단면쇼케이스120X70(A1207)\n",
      "상품번호: 0000000400\n",
      "유사도 점수: 1.2574134155828913\n",
      "------------------------------------------------------------\n",
      "[결과 3]\n",
      "상품명: 단면쇼케이스120X170(A1217)\n",
      "상품번호: 0000000403\n",
      "유사도 점수: 1.2668615134017227\n",
      "------------------------------------------------------------\n",
      "[결과 4]\n",
      "상품명: 단면쇼케이스120X100(A1210)\n",
      "상품번호: 0000000402\n",
      "유사도 점수: 1.2713711648938995\n",
      "------------------------------------------------------------\n",
      "[결과 5]\n",
      "상품명: 단면쇼케이스90X55(A0905) W1000\n",
      "상품번호: 0000000394\n",
      "유사도 점수: 1.2754536106835337\n",
      "------------------------------------------------------------\n"
     ]
    }
   ],
   "source": [
    "# 4. Vectorstore 검색\n",
    "\n",
    "# 명시적으로 product_collection 컬렉션 불러오기\n",
    "vectorstore = Chroma(\n",
    "    persist_directory=persist_directory,\n",
    "    embedding_function=embeddings,\n",
    "    collection_name=\"product_collection\",\n",
    ")\n",
    "\n",
    "# 검색할 쿼리 설정 (원하는 검색어로 변경 가능)\n",
    "query = \"단면\"  # 예시 쿼리: 원하는 검색어로 변경하세요\n",
    "\n",
    "# 쿼리와 유사한 상품 5개 검색\n",
    "results_with_score = vectorstore.similarity_search_with_score(\n",
    "    query=query, k=5  # 반환할 결과 수\n",
    ")\n",
    "\n",
    "# 결과 출력\n",
    "print(f\"'{query}'와 유사한 상품 검색 결과 (최대 5개):\")\n",
    "print(\"-\" * 60)\n",
    "\n",
    "if results_with_score:\n",
    "    for i, (doc, score) in enumerate(results_with_score, 1):\n",
    "        print(f\"[결과 {i}]\")\n",
    "        print(f\"상품명: {doc.page_content}\")\n",
    "        print(f\"상품번호: {doc.metadata['GOODS_NO']}\")\n",
    "        print(f\"유사도 점수: {score}\")  # 낮을수록 더 유사함\n",
    "        print(\"-\" * 60)\n",
    "else:\n",
    "    print(\"검색 결과가 없습니다.\")\n"
   ]
  }
 ],
 "metadata": {
  "kernelspec": {
   "display_name": "embedding-ota6bejb-py3.11",
   "language": "python",
   "name": "python3"
  },
  "language_info": {
   "codemirror_mode": {
    "name": "ipython",
    "version": 3
   },
   "file_extension": ".py",
   "mimetype": "text/x-python",
   "name": "python",
   "nbconvert_exporter": "python",
   "pygments_lexer": "ipython3",
   "version": "3.11.9"
  }
 },
 "nbformat": 4,
 "nbformat_minor": 5
}
