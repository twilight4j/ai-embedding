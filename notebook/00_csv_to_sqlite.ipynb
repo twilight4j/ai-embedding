{
 "cells": [
  {
   "cell_type": "code",
   "execution_count": 1,
   "metadata": {},
   "outputs": [],
   "source": [
    "# 라이브러리 선언\n",
    "import sqlite3\n",
    "import csv\n",
    "import re\n",
    "import os"
   ]
  },
  {
   "cell_type": "markdown",
   "metadata": {},
   "source": [
    "CSV 파일을 SQLite 데이터베이스로 전환하는 함수를 선언합니다."
   ]
  },
  {
   "cell_type": "code",
   "execution_count": 2,
   "metadata": {},
   "outputs": [],
   "source": [
    "\n",
    "# CSV 파일을 SQLite 데이터베이스로 전환하는 함수 선언\n",
    "def csv_to_sqlite(csv_filepath, db_filepath, table_name, drop_existing_table=False):\n",
    "    \"\"\"\n",
    "    CSV 파일을 읽어 SQLite 데이터베이스로 전환합니다.\n",
    "\n",
    "    Args:\n",
    "        csv_filepath (str): 변환할 CSV 파일의 경로.\n",
    "        db_filepath (str): 생성하거나 연결할 SQLite 데이터베이스 파일의 경로.\n",
    "        table_name (str): 데이터를 삽입할 SQLite 테이블의 이름.\n",
    "    \"\"\"\n",
    "    try:\n",
    "        conn = sqlite3.connect(db_filepath)\n",
    "        cursor = conn.cursor()\n",
    "\n",
    "        # drop_existing_table이 True이면 기존 테이블 삭제\n",
    "        if drop_existing_table:\n",
    "            drop_table_sql = f\"DROP TABLE IF EXISTS {table_name};\"\n",
    "            cursor.execute(drop_table_sql)\n",
    "            print(f\"기존 테이블 '{table_name}'이(가) 삭제되었습니다 (존재하는 경우).\")\n",
    "            conn.commit() # DROP TABLE 후에는 바로 커밋하여 반영\n",
    "\n",
    "        with open(csv_filepath, 'r', encoding='utf-8') as f:\n",
    "            reader = csv.reader(f)\n",
    "            headers = next(reader)  # 첫 번째 행을 헤더로 읽음\n",
    "\n",
    "            # SQL 컬럼 이름으로 유효하게 변환 (특수 문자 제거 및 공백 대체)\n",
    "            cleaned_headers = [re.sub(r'\\W+', '', header).strip().lower() for header in headers]\n",
    "            \n",
    "            # 테이블 생성 쿼리 구성\n",
    "            # 모든 컬럼을 기본적으로 TEXT 타입으로 지정하여 유연성을 높입니다.\n",
    "            # 필요에 따라 INSERT 전에 데이터 타입 변환 로직을 추가할 수 있습니다.\n",
    "            columns_def = ', '.join([f\"{header} TEXT\" for header in cleaned_headers])\n",
    "            create_table_sql = f\"CREATE TABLE IF NOT EXISTS {table_name} ({columns_def});\"\n",
    "            cursor.execute(create_table_sql)\n",
    "            print(f\"테이블 '{table_name}'이(가) 생성되었거나 이미 존재합니다.\")\n",
    "\n",
    "            # 데이터 삽입 쿼리 구성\n",
    "            placeholders = ', '.join(['?' for _ in cleaned_headers])\n",
    "            insert_sql = f\"INSERT INTO {table_name} ({', '.join(cleaned_headers)}) VALUES ({placeholders});\"\n",
    "\n",
    "            # 데이터 삽입\n",
    "            for row_num, row in enumerate(reader, start=2): # 첫 번째 행은 헤더이므로 2부터 시작\n",
    "                if len(row) != len(cleaned_headers):\n",
    "                    print(f\"경고: {row_num}행의 컬럼 개수가 헤더와 일치하지 않습니다. 이 행은 건너뜁니다: {row}\")\n",
    "                    continue\n",
    "                try:\n",
    "                    cursor.execute(insert_sql, row)\n",
    "                except sqlite3.Error as e:\n",
    "                    print(f\"오류: {row_num}행을 삽입하는 중 오류가 발생했습니다: {row}. 오류 메시지: {e}\")\n",
    "                    continue # 오류 발생 시 해당 행은 건너뛰고 다음 행으로 진행\n",
    "\n",
    "            conn.commit()\n",
    "        print(f\"'{csv_filepath}' 파일의 데이터가 '{db_filepath}'의 '{table_name}' 테이블로 성공적으로 전환되었습니다.\")\n",
    "\n",
    "    except FileNotFoundError:\n",
    "        print(f\"오류: '{csv_filepath}' 파일을 찾을 수 없습니다. 경로를 확인해 주세요.\")\n",
    "    except sqlite3.Error as e:\n",
    "        print(f\"SQLite 데이터베이스 오류: {e}\")\n",
    "    except Exception as e:\n",
    "        print(f\"예상치 못한 오류가 발생했습니다: {e}\")\n",
    "    finally:\n",
    "        if 'conn' in locals() and conn:\n",
    "            conn.close()\n"
   ]
  },
  {
   "cell_type": "markdown",
   "metadata": {},
   "source": [
    "CSV 파일을 SQLite 데이터베이스로 전환합니다.  \n",
    "기존에 테이블이 존재한다면 삭제 후 재생성합니다.  \n",
    "만약 아래와 같은 오류가 발생한다면 CSV 파일에 DRM 이 걸려있는지 확인해주세요.  \n",
    "```\n",
    "예상치 못한 오류가 발생했습니다: 'utf-8' codec can't decode byte 0x9b in position 0: invalid start byte\n",
    "```"
   ]
  },
  {
   "cell_type": "code",
   "execution_count": 3,
   "metadata": {},
   "outputs": [
    {
     "name": "stdout",
     "output_type": "stream",
     "text": [
      "기존 테이블 'PRODUCT'이(가) 삭제되었습니다 (존재하는 경우).\n",
      "테이블 'PRODUCT'이(가) 생성되었거나 이미 존재합니다.\n",
      "'../data/임베딩대상_202505261852.csv' 파일의 데이터가 '../.db/sqlite/my_database.db'의 'PRODUCT' 테이블로 성공적으로 전환되었습니다.\n",
      "\n",
      "--- SQLite 데이터 확인 ---\n",
      "('0021216860', '엔산 EL-09 이젤형 TV스탠드 티비거치대', '정상상품', '엔산마운트', 'A/V 기타>TV 기타', '색상', '화이트 계열', 'TV·영상가전>TV>TV액세서리', 'N', '#TV거치대#TV브라켓#모니터거치대#모니터브라켓', '176000', '176000', '0', '', '', '176000')\n",
      "('0026595956', '엔산 무드조명형 모니터암 블룸스탠드 삼텐바이미 거치대', '정상상품', '엔산마운트', 'A/V 기타>TV 기타', '', '', 'TV·영상가전>TV>TV액세서리', 'N', '#TV거치대#TV브라켓#모니터거치대#모니터브라켓', '140000', '140000', '0', '', '', '140000')\n",
      "('0037357623', '5년무상AS 이스트라 120Hz AI 맥스 127cm UHD 구글 5.0 스마트TV (이젤스탠드A타입-기사)', '정상상품', '이스트라', 'TV>UHD TV', '크기,종류,해상도,응답속도,기본 주사율,스마트기능,스마트기능,스마트기능,스마트기능,스마트기능,스마트기능,부가기능,부가기능,부가기능,부가기능,부가기능,부가기능,부가기능,부가기능,e효율등급,출시년도,화면 타입,스피커 출력,음향효과,음향효과,지원단자', '50인치(127cm),LED,UHD(4K),6m/s,120Hz,구글플레이,넷플릭스,유튜브,크롬캐스트,구글어시스턴트,Disney+,블루투스,게임모드,플리커프리,HDMI CEC,HDMI 2.1 지원,HDMI eARC,크로마서브샘플링(4:4:4),USB재생(동영상·사진·음악),1등급,2025년,평면형,24W,돌비디지털Plus,돌비디지털,HDMI', 'TV·영상가전>TV>중형(~139cm)', 'Y', '#AN507UHD07', '588000', '588000', '0', '', '', '546840')\n",
      "('0021376941', '2024년형 50인치 스마트 UHD 구글 TV 4K 에너지효율 1등급 T5003KUG 스탠드직배송', '정상상품', '루컴즈', 'TV>LED TV', '크기,종류,해상도,응답속도,기본 주사율,엔진,스마트기능,스마트기능,스마트기능,스마트기능,스마트기능,스마트기능,스마트기능,부가기능,부가기능,부가기능,부가기능,부가기능,부가기능,부가기능,부가기능,e효율등급,출시년도,화면 타입,스피커 출력,음향효과', '50인치(127cm),LED,UHD(4K),7m/s,60Hz,MT9612,넷플릭스,유튜브,크롬캐스트,구글어시스턴트,아마존프라임비디오,Disney+,AppleTV,USB재생,블루투스,플리커프리,HDMI ARC,HDMI CEC,HDMI 2.1 지원,HDMI eARC,크로마서브샘플링(4:4:4),1등급,2023년,평면형,20W,돌비애트모스', 'TV·영상가전>TV>중형(~139cm)', 'Y', '#50인치TV#50인치TV스마트#50인치uhd#50인치스마트TV#50인치티비#TV#스마트TV#티비', '439000', '439000', '0', '', '', '439000')\n",
      "('0020478272', 'LG 218cm 4K UHD 디지털 사이니지  LED TV 86UM3E [설치유형 선택가능]', '정상상품', '아이티스토리', 'TV>LED TV', '', '', 'TV·영상가전>TV>초대형(190cm~)', 'Y', '', '2799000', '2799000', '0', '', '', '2799000')\n",
      "('0021089184', '삼성 QLED 4K QC80 (163cm) TV 벽걸이형 KQ65QC80AFXKR(W)', '정상상품', '삼성전자', 'TV>QLEDTV', '크기,종류,해상도,스마트기능,스마트기능,스마트기능,스마트기능,스마트기능,스마트기능,스마트기능,스마트기능,부가기능,부가기능,부가기능,부가기능,e효율등급,출시년도,화면 타입,스피커 출력,음향효과,음향효과,지원단자,지원단자,지원단자,소비전력,VESA간격', '65인치(163cm),QLED,UHD(4K),넷플릭스,유튜브,음성인식,웨이브,알렉사,빅스비,Disney+,AppleTV,게임모드,HDMI ARC,HDMI CEC,HDMI eARC,4등급,2023년,평면형,40W,OTS,AI사운드최적화+,HDMI,LAN,Optical,295W,400*300mm', 'TV·영상가전>TV>대형(~189cm)', 'Y', '#163cm#4K#KQ65QC80AFXKR#QC80#QLED#TV#삼성', '3156000', '3156000', '0', '', '', '3156000')\n",
      "('0021414021', '그랑데 의류건조기 DV90T5440KW 9kg 일반설치', '정상상품', '삼성전자', '세탁기>건조기', '건조 용량,건조방식,주요기능,주요기능,주요기능,e효율등급,색상,출시년도', '9kg,히트펌프식,AI건조,타이머,구김방지,1등급,화이트 계열,2020년', '세탁기·건조기·의류관리기>건조기·탈수기>건조기', 'Y', '#DV90T5440KW_S', '1248600', '1123740', '5', '롯데카드', '롯데카드,네이버페이,삼성카드', '1067550')\n",
      "('0020935216', '146cm UHD TV KU58UC7000FXKR 스탠드형', '정상상품', '삼성전자', 'TV>UHD TV', '크기,종류,해상도,엔진,스마트기능,스마트기능,스마트기능,스마트기능,스마트기능,스마트기능,스마트기능,스마트기능,스마트기능,부가기능,부가기능,부가기능,부가기능,부가기능,부가기능,e효율등급,출시년도,화면 타입,스피커 출력,음향효과,지원단자,지원단자', '58인치(146cm),LED,UHD(4K),크리스탈프로세서,넷플릭스,유튜브,웨이브,알렉사,아마존프라임비디오,Disney+,AppleTV,왓챠플레이,쿠팡플레이,USB재생,Q심포니,게임모드,HDMI ARC,HDMI CEC,HDMI eARC,1등급,2023년,평면형,20W,OTS Lite,HDMI,LAN', 'TV·영상가전>TV>대형(~189cm)', 'Y', '#KU58UC7000FXKR_SS', '1160000', '1160000', '5', '롯데카드', '롯데카드,현대카드,네이버페이,삼성카드,신한카드,KB국민카드', '1102000')\n",
      "('0020966106', '146cm UHD TV KU58UC7000FXKR [설치유형 선택가능]', '정상상품', '삼성전자', 'TV>UHD TV', '', '', 'TV·영상가전>TV>대형(~189cm)', 'Y', '', '1160000', '1160000', '5', '롯데카드', '롯데카드,현대카드,네이버페이,삼성카드,신한카드,KB국민카드', '1102000')\n",
      "('0021880077', '24년형 신제품 이스트라 144Hz VRR 65 UHD AI 구글TV 벽걸이 상하(', '정상상품', '이스트라', 'TV>NLEDTV', '크기,종류,해상도,응답속도,기본 주사율,엔진,스마트기능,스마트기능,스마트기능,스마트기능,스마트기능,스마트기능,스마트기능,스마트기능,부가기능,부가기능,부가기능,부가기능,부가기능,부가기능,부가기능,부가기능,e효율등급,출시년도,화면 타입,스피커 출력', '65인치(164cm),LED,UHD(4K),6m/s,120Hz,MT9617,구글플레이,넷플릭스,유튜브,인터넷,음성인식,크롬캐스트,구글어시스턴트,Disney+,블루투스,게임모드,플리커프리,HDMI CEC,HDMI 2.1 지원,HDMI eARC,크로마서브샘플링(4:4:4),USB재생(동영상·사진·음악),2등급,2024년,평면형,24W', 'TV·영상가전>TV>대형(~189cm)', 'Y', '#65인치TV#65인치티비#TV#스마트TV#스마트티비#안드로이드TV#안드로이드티비#중소기업TV#중소기업티비#티비', '2010000', '2010000', '0', '', '', '2010000')\n"
     ]
    }
   ],
   "source": [
    "# CSV 파일을 SQLite 데이터베이스로 전환하는 함수 호출\n",
    "csv_file = \"../data/임베딩대상_202505261852.csv\"\n",
    "sqlite_db = \"../.db/sqlite/my_database.db\"\n",
    "table = \"PRODUCT\"\n",
    "\n",
    "\n",
    "# SQLite DB 폴더 존재 여부 확인 및 생성\n",
    "db_dir = os.path.dirname(sqlite_db)\n",
    "if not os.path.exists(db_dir):\n",
    "    os.makedirs(db_dir)\n",
    "\n",
    "\n",
    "csv_to_sqlite(csv_file, sqlite_db, table, True)\n",
    "\n",
    "# 3. 데이터 확인 (선택 사항)\n",
    "print(\"\\n--- SQLite 데이터 확인 ---\")\n",
    "try:\n",
    "    conn = sqlite3.connect(sqlite_db)\n",
    "    cursor = conn.cursor()\n",
    "    cursor.execute(f\"SELECT * FROM {table};\")\n",
    "    rows = cursor.fetchall()\n",
    "except sqlite3.Error as e:\n",
    "    print(f\"데이터 확인 중 오류 발생: {e}\")\n",
    "finally:\n",
    "    if 'conn' in locals() and conn:\n",
    "        conn.close()\n",
    "\n",
    "# 샘플 출력\n",
    "for row in rows[:10]:\n",
    "    print(row)"
   ]
  }
 ],
 "metadata": {
  "kernelspec": {
   "display_name": "embedding-ota6bejb-py3.11",
   "language": "python",
   "name": "python3"
  },
  "language_info": {
   "codemirror_mode": {
    "name": "ipython",
    "version": 3
   },
   "file_extension": ".py",
   "mimetype": "text/x-python",
   "name": "python",
   "nbconvert_exporter": "python",
   "pygments_lexer": "ipython3",
   "version": "3.11.9"
  }
 },
 "nbformat": 4,
 "nbformat_minor": 2
}
