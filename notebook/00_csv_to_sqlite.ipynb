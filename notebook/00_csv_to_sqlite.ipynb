{
 "cells": [
  {
   "cell_type": "code",
   "execution_count": 1,
   "metadata": {},
   "outputs": [],
   "source": [
    "# 라이브러리 선언\n",
    "import sqlite3\n",
    "import csv\n",
    "import re\n",
    "import os"
   ]
  },
  {
   "cell_type": "markdown",
   "metadata": {},
   "source": [
    "CSV 파일을 SQLite 데이터베이스로 전환하는 함수를 선언합니다."
   ]
  },
  {
   "cell_type": "code",
   "execution_count": 2,
   "metadata": {},
   "outputs": [],
   "source": [
    "\n",
    "# CSV 파일을 SQLite 데이터베이스로 전환하는 함수 선언\n",
    "def csv_to_sqlite(csv_filepath, db_filepath, table_name, drop_existing_table=False):\n",
    "    \"\"\"\n",
    "    CSV 파일을 읽어 SQLite 데이터베이스로 전환합니다.\n",
    "\n",
    "    Args:\n",
    "        csv_filepath (str): 변환할 CSV 파일의 경로.\n",
    "        db_filepath (str): 생성하거나 연결할 SQLite 데이터베이스 파일의 경로.\n",
    "        table_name (str): 데이터를 삽입할 SQLite 테이블의 이름.\n",
    "    \"\"\"\n",
    "    try:\n",
    "        conn = sqlite3.connect(db_filepath)\n",
    "        cursor = conn.cursor()\n",
    "\n",
    "        # drop_existing_table이 True이면 기존 테이블 삭제\n",
    "        if drop_existing_table:\n",
    "            drop_table_sql = f\"DROP TABLE IF EXISTS {table_name};\"\n",
    "            cursor.execute(drop_table_sql)\n",
    "            print(f\"기존 테이블 '{table_name}'이(가) 삭제되었습니다 (존재하는 경우).\")\n",
    "            conn.commit() # DROP TABLE 후에는 바로 커밋하여 반영\n",
    "\n",
    "        with open(csv_filepath, 'r', encoding='utf-8') as f:\n",
    "            reader = csv.reader(f)\n",
    "            headers = next(reader)  # 첫 번째 행을 헤더로 읽음\n",
    "\n",
    "            # SQL 컬럼 이름으로 유효하게 변환 (특수 문자 제거 및 공백 대체)\n",
    "            cleaned_headers = [re.sub(r'\\W+', '', header).strip().lower() for header in headers]\n",
    "            \n",
    "            # 테이블 생성 쿼리 구성\n",
    "            # 모든 컬럼을 기본적으로 TEXT 타입으로 지정하여 유연성을 높입니다.\n",
    "            # 필요에 따라 INSERT 전에 데이터 타입 변환 로직을 추가할 수 있습니다.\n",
    "            columns_def = ', '.join([f\"{header} TEXT\" for header in cleaned_headers])\n",
    "            create_table_sql = f\"CREATE TABLE IF NOT EXISTS {table_name} ({columns_def});\"\n",
    "            cursor.execute(create_table_sql)\n",
    "            print(f\"테이블 '{table_name}'이(가) 생성되었거나 이미 존재합니다.\")\n",
    "\n",
    "            # 데이터 삽입 쿼리 구성\n",
    "            placeholders = ', '.join(['?' for _ in cleaned_headers])\n",
    "            insert_sql = f\"INSERT INTO {table_name} ({', '.join(cleaned_headers)}) VALUES ({placeholders});\"\n",
    "\n",
    "            # 데이터 삽입\n",
    "            for row_num, row in enumerate(reader, start=2): # 첫 번째 행은 헤더이므로 2부터 시작\n",
    "                if len(row) != len(cleaned_headers):\n",
    "                    print(f\"경고: {row_num}행의 컬럼 개수가 헤더와 일치하지 않습니다. 이 행은 건너뜁니다: {row}\")\n",
    "                    continue\n",
    "                try:\n",
    "                    cursor.execute(insert_sql, row)\n",
    "                except sqlite3.Error as e:\n",
    "                    print(f\"오류: {row_num}행을 삽입하는 중 오류가 발생했습니다: {row}. 오류 메시지: {e}\")\n",
    "                    continue # 오류 발생 시 해당 행은 건너뛰고 다음 행으로 진행\n",
    "\n",
    "            conn.commit()\n",
    "        print(f\"'{csv_filepath}' 파일의 데이터가 '{db_filepath}'의 '{table_name}' 테이블로 성공적으로 전환되었습니다.\")\n",
    "\n",
    "    except FileNotFoundError:\n",
    "        print(f\"오류: '{csv_filepath}' 파일을 찾을 수 없습니다. 경로를 확인해 주세요.\")\n",
    "    except sqlite3.Error as e:\n",
    "        print(f\"SQLite 데이터베이스 오류: {e}\")\n",
    "    except Exception as e:\n",
    "        print(f\"예상치 못한 오류가 발생했습니다: {e}\")\n",
    "    finally:\n",
    "        if 'conn' in locals() and conn:\n",
    "            conn.close()\n"
   ]
  },
  {
   "cell_type": "markdown",
   "metadata": {},
   "source": [
    "CSV 파일을 SQLite 데이터베이스로 전환합니다.  \n",
    "기존에 테이블이 존재한다면 삭제 후 재생성합니다.  \n",
    "만약 아래와 같은 오류가 발생한다면 CSV 파일에 DRM 이 걸려있는지 확인해주세요.  \n",
    "```\n",
    "예상치 못한 오류가 발생했습니다: 'utf-8' codec can't decode byte 0x9b in position 0: invalid start byte\n",
    "```"
   ]
  },
  {
   "cell_type": "code",
   "execution_count": 3,
   "metadata": {},
   "outputs": [
    {
     "name": "stdout",
     "output_type": "stream",
     "text": [
      "기존 테이블 'PRODUCT'이(가) 삭제되었습니다 (존재하는 경우).\n",
      "테이블 'PRODUCT'이(가) 생성되었거나 이미 존재합니다.\n",
      "'../data/임베딩대상_202507021428.csv' 파일의 데이터가 '../.db/sqlite/my_database.db'의 'PRODUCT' 테이블로 성공적으로 전환되었습니다.\n",
      "\n",
      "--- SQLite 데이터 확인 ---\n",
      "('0019477549', '[한정판]JBL 4312G 고스트 에디션 스피커[1조]', '01', '정상상품', '01', '01', 'JBL', '스피커', 'JBL_4312_WH', '스피커채널', '2채널', '음향가전', '스피커', '블루투스스피커', 'Y', '#JBL_4312_WH', '0', '0', '', '20220701', '0', '0', '6500000', '6500000', '0', '', '', '6500000')\n",
      "('0026375072', 'UAJBLFLASHBLK UAJBLFLASHBLK', '06', '미개봉상품', '01', '01', 'JBL', '헤드셋', 'UAJBLFLASHBLK', '방수 등급', 'IPX7', '음향가전', '이어폰', '무선이어폰', 'Y', '#애플브랜드위크#DT-6130KO#SH-15-EG1110TU_H_#미개봉특가#미개봉특가#미개봉#미개봉상품#미개봉상품', '4.6', '3', '', '20190401', '2', '0', '199000', '54000', '0', '', '', '54000')\n",
      "('0021246073', '[12~24개월 장기할부][정가:1,750,000] 제이비엘 L52 Classic 하이파이 스피커', '01', '정상상품', '02', '01', 'JBL', '하이파이콤포넌트', 'L52CLASSIC', '', '', '음향가전', '기타', '', 'Y', '#L52CLASSIC', '5', '1', '', '20210101', '0', '0', '1083176', '1083176', '12', '롯데카드', '롯데카드,삼성카드', '896006')\n",
      "('0028319729', 'JBLFREEXBLKBT JBLFREEXBLKBT', '06', '미개봉상품', '02', '01', 'JBL', '헤드셋', 'JBLFREEXBLKBT', '', '', '음향가전', '이어폰', '무선이어폰', 'Y', '#JBLFreeX#블루투스#블루투스이어폰#이어폰#무선이어폰#하만#JBL이어폰#JBL블루투스이어폰#프리#프리X#FREEX#미개봉특가#미개봉특가#미개봉#미개봉상품#미개봉상품', '0', '0', '', '20181201', '0', '0', '149000', '67000', '0', '', '', '67000')\n",
      "('0026374888', 'JBLCLIP3RED JBLCLIP3RED', '06', '미개봉상품', '02', '01', 'JBL', '스피커', 'JBLCLIP3RED', '', '', '음향가전', '스피커', '블루투스스피커', 'Y', '#스피커#블루투스#블루투스스피커#jbl#삼성#삼성스피커#clip#클립#HarmanKardon#하만카돈#하만#jblclip#jbl클립#클립스피커#jbl클립스피커#미개봉특가#미개봉특가#미개봉#미개봉상품#미개봉상품', '5', '1', '', '20180901', '1', '0', '89000', '40000', '0', '', '', '40000')\n",
      "('0021282229', '[12~24개월 장기할부]제이비엘 L52 Classic 하이파이 스피커', '01', '정상상품', '02', '01', 'JBL', '하이파이콤포넌트', 'L52CLASSIC2', '', '', '음향가전', '기타', '', 'Y', '#L52CLASSIC2', '0', '0', '', '20210101', '0', '0', '1499000', '1499000', '12', '롯데카드', '롯데카드,삼성카드', '1239970')\n",
      "('0021409930', '[박스개봉 - 변심반품] 언더아머 스포츠 Flash 블루투스 이어폰[커널형][블랙][UAJBLFLASH]', '02', '반품상품', '01', '01', 'JBL', '헤드셋', 'UAJBLFLASHBLK', '방수 등급', 'IPX7', '음향가전', '이어폰', '무선이어폰', 'Y', '', '0', '0', '', '20190401', '0', '0', '199000', '187060', '10', '삼성카드', '삼성카드,롯데카드,현대카드', '168350')\n",
      "('0002741679', 'JBL 언더아머 스포츠 Flash 블루투스 이어폰[커널형][블랙][UAJBLFLASH]', '01', '정상상품', '01', '01', 'JBL', '헤드셋', 'UAJBLFLASHBLK', '연결방식,색상,방수 등급,무게', '무선,블랙 계열,IPX7,84.2g', '음향가전', '이어폰', '무선이어폰', 'Y', '#애플브랜드위크#DT-6130KO#SH-15-EG1110TU_H_', '4.3', '10', '', '20190401', '0', '0', '199000', '199000', '10', '삼성카드', '삼성카드,롯데카드,현대카드', '179100')\n",
      "('0001398745', 'JBL 키즈 청력보호 블루투스 헤드폰[JR300]', '01', '정상상품', '01', '01', 'JBL', '헤드셋', 'JBLJR300BTUNO', '', '', '음향가전', '헤드폰', '무선헤드폰', 'Y', '#블루투스헤드폰#키즈용헤드폰#하만#JBL#헤드폰#키즈헤드폰#어린이#어린이헤드폰#어린이용헤드폰#블루투스#키즈용헤드폰', '4.8', '10', '', '20181201', '0', '0', '75000', '75000', '0', '', '', '75000')\n",
      "('0001398740', 'JBL 키즈 청력보호 유선 헤드폰[JR300]', '01', '정상상품', '01', '01', 'JBL', '헤드셋', 'JBLJR300BLU', '', '', '음향가전', '헤드폰', '유선헤드폰', 'Y', '#블루투스헤드폰#키즈용헤드폰#하만#JBL#헤드폰#키즈헤드폰#어린이#어린이헤드폰#어린이용헤드폰#블루투스#키즈용헤드폰', '4.1', '7', '', '20181201', '0', '0', '40000', '40000', '0', '', '', '40000')\n"
     ]
    }
   ],
   "source": [
    "# CSV 파일을 SQLite 데이터베이스로 전환하는 함수 호출\n",
    "csv_file = \"../data/임베딩대상_202507021428.csv\"\n",
    "sqlite_db = \"../.db/sqlite/my_database.db\"\n",
    "table = \"PRODUCT\"\n",
    "\n",
    "# SQLite 데이터베이스 디렉토리 확인 및 생성\n",
    "db_dir = os.path.dirname(sqlite_db)\n",
    "if not os.path.exists(db_dir):\n",
    "    os.makedirs(db_dir)\n",
    "    print(f\"'{db_dir}' 디렉토리가 생성되었습니다.\")\n",
    "\n",
    "csv_to_sqlite(csv_file, sqlite_db, table, True)\n",
    "\n",
    "# 3. 데이터 확인 (선택 사항)\n",
    "print(\"\\n--- SQLite 데이터 확인 ---\")\n",
    "try:\n",
    "    conn = sqlite3.connect(sqlite_db)\n",
    "    cursor = conn.cursor()\n",
    "    cursor.execute(f\"SELECT * FROM {table};\")\n",
    "    rows = cursor.fetchall()\n",
    "except sqlite3.Error as e:\n",
    "    print(f\"데이터 확인 중 오류 발생: {e}\")\n",
    "finally:\n",
    "    if 'conn' in locals() and conn:\n",
    "        conn.close()\n",
    "\n",
    "# 샘플 출력\n",
    "for row in rows[:10]:\n",
    "    print(row)"
   ]
  }
 ],
 "metadata": {
  "kernelspec": {
   "display_name": "embedding-ota6bejb-py3.11",
   "language": "python",
   "name": "python3"
  },
  "language_info": {
   "codemirror_mode": {
    "name": "ipython",
    "version": 3
   },
   "file_extension": ".py",
   "mimetype": "text/x-python",
   "name": "python",
   "nbconvert_exporter": "python",
   "pygments_lexer": "ipython3",
   "version": "3.11.9"
  }
 },
 "nbformat": 4,
 "nbformat_minor": 2
}
