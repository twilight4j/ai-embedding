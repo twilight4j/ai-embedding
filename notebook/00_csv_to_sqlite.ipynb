{
 "cells": [
  {
   "cell_type": "code",
   "execution_count": 2,
   "metadata": {},
   "outputs": [],
   "source": [
    "# 라이브러리 선언\n",
    "import sqlite3\n",
    "import csv\n",
    "import re\n",
    "import os"
   ]
  },
  {
   "cell_type": "markdown",
   "metadata": {},
   "source": [
    "CSV 파일을 SQLite 데이터베이스로 전환하는 함수를 선언합니다."
   ]
  },
  {
   "cell_type": "code",
   "execution_count": 3,
   "metadata": {},
   "outputs": [],
   "source": [
    "\n",
    "# CSV 파일을 SQLite 데이터베이스로 전환하는 함수 선언\n",
    "def csv_to_sqlite(csv_filepath, db_filepath, table_name, drop_existing_table=False):\n",
    "    \"\"\"\n",
    "    CSV 파일을 읽어 SQLite 데이터베이스로 전환합니다.\n",
    "\n",
    "    Args:\n",
    "        csv_filepath (str): 변환할 CSV 파일의 경로.\n",
    "        db_filepath (str): 생성하거나 연결할 SQLite 데이터베이스 파일의 경로.\n",
    "        table_name (str): 데이터를 삽입할 SQLite 테이블의 이름.\n",
    "    \"\"\"\n",
    "    try:\n",
    "        conn = sqlite3.connect(db_filepath)\n",
    "        cursor = conn.cursor()\n",
    "\n",
    "        # drop_existing_table이 True이면 기존 테이블 삭제\n",
    "        if drop_existing_table:\n",
    "            drop_table_sql = f\"DROP TABLE IF EXISTS {table_name};\"\n",
    "            cursor.execute(drop_table_sql)\n",
    "            print(f\"기존 테이블 '{table_name}'이(가) 삭제되었습니다 (존재하는 경우).\")\n",
    "            conn.commit() # DROP TABLE 후에는 바로 커밋하여 반영\n",
    "\n",
    "        with open(csv_filepath, 'r', encoding='utf-8') as f:\n",
    "            reader = csv.reader(f)\n",
    "            headers = next(reader)  # 첫 번째 행을 헤더로 읽음\n",
    "\n",
    "            # SQL 컬럼 이름으로 유효하게 변환 (특수 문자 제거 및 공백 대체)\n",
    "            cleaned_headers = [re.sub(r'\\W+', '', header).strip().lower() for header in headers]\n",
    "            \n",
    "            # 테이블 생성 쿼리 구성\n",
    "            # 모든 컬럼을 기본적으로 TEXT 타입으로 지정하여 유연성을 높입니다.\n",
    "            # 필요에 따라 INSERT 전에 데이터 타입 변환 로직을 추가할 수 있습니다.\n",
    "            columns_def = ', '.join([f\"{header} TEXT\" for header in cleaned_headers])\n",
    "            create_table_sql = f\"CREATE TABLE IF NOT EXISTS {table_name} ({columns_def});\"\n",
    "            cursor.execute(create_table_sql)\n",
    "            print(f\"테이블 '{table_name}'이(가) 생성되었거나 이미 존재합니다.\")\n",
    "\n",
    "            # 데이터 삽입 쿼리 구성\n",
    "            placeholders = ', '.join(['?' for _ in cleaned_headers])\n",
    "            insert_sql = f\"INSERT INTO {table_name} ({', '.join(cleaned_headers)}) VALUES ({placeholders});\"\n",
    "\n",
    "            # 데이터 삽입\n",
    "            for row_num, row in enumerate(reader, start=2): # 첫 번째 행은 헤더이므로 2부터 시작\n",
    "                if len(row) != len(cleaned_headers):\n",
    "                    print(f\"경고: {row_num}행의 컬럼 개수가 헤더와 일치하지 않습니다. 이 행은 건너뜁니다: {row}\")\n",
    "                    continue\n",
    "                try:\n",
    "                    cursor.execute(insert_sql, row)\n",
    "                except sqlite3.Error as e:\n",
    "                    print(f\"오류: {row_num}행을 삽입하는 중 오류가 발생했습니다: {row}. 오류 메시지: {e}\")\n",
    "                    continue # 오류 발생 시 해당 행은 건너뛰고 다음 행으로 진행\n",
    "\n",
    "            conn.commit()\n",
    "        print(f\"'{csv_filepath}' 파일의 데이터가 '{db_filepath}'의 '{table_name}' 테이블로 성공적으로 전환되었습니다.\")\n",
    "\n",
    "    except FileNotFoundError:\n",
    "        print(f\"오류: '{csv_filepath}' 파일을 찾을 수 없습니다. 경로를 확인해 주세요.\")\n",
    "    except sqlite3.Error as e:\n",
    "        print(f\"SQLite 데이터베이스 오류: {e}\")\n",
    "    except Exception as e:\n",
    "        print(f\"예상치 못한 오류가 발생했습니다: {e}\")\n",
    "    finally:\n",
    "        if 'conn' in locals() and conn:\n",
    "            conn.close()\n"
   ]
  },
  {
   "cell_type": "markdown",
   "metadata": {},
   "source": [
    "CSV 파일을 SQLite 데이터베이스로 전환합니다.  \n",
    "기존에 테이블이 존재한다면 삭제 후 재생성합니다.  \n",
    "만약 아래와 같은 오류가 발생한다면 CSV 파일에 DRM 이 걸려있는지 확인해주세요.  \n",
    "```\n",
    "예상치 못한 오류가 발생했습니다: 'utf-8' codec can't decode byte 0x9b in position 0: invalid start byte\n",
    "```"
   ]
  },
  {
   "cell_type": "code",
   "execution_count": 1,
   "metadata": {},
   "outputs": [
    {
     "ename": "NameError",
     "evalue": "name 'os' is not defined",
     "output_type": "error",
     "traceback": [
      "\u001b[31m---------------------------------------------------------------------------\u001b[39m",
      "\u001b[31mNameError\u001b[39m                                 Traceback (most recent call last)",
      "\u001b[36mCell\u001b[39m\u001b[36m \u001b[39m\u001b[32mIn[1]\u001b[39m\u001b[32m, line 8\u001b[39m\n\u001b[32m      4\u001b[39m table = \u001b[33m\"\u001b[39m\u001b[33mPRODUCT\u001b[39m\u001b[33m\"\u001b[39m\n\u001b[32m      7\u001b[39m \u001b[38;5;66;03m# SQLite DB 폴더 존재 여부 확인 및 생성\u001b[39;00m\n\u001b[32m----> \u001b[39m\u001b[32m8\u001b[39m db_dir = \u001b[43mos\u001b[49m.path.dirname(sqlite_db)\n\u001b[32m      9\u001b[39m \u001b[38;5;28;01mif\u001b[39;00m \u001b[38;5;129;01mnot\u001b[39;00m os.path.exists(db_dir):\n\u001b[32m     10\u001b[39m     os.makedirs(db_dir)\n",
      "\u001b[31mNameError\u001b[39m: name 'os' is not defined"
     ]
    }
   ],
   "source": [
    "# CSV 파일을 SQLite 데이터베이스로 전환하는 함수 호출\n",
    "csv_file = \"../data/임베딩대상_202505261852.csv\"\n",
    "sqlite_db = \"../.db/sqlite/my_database.db\"\n",
    "table = \"PRODUCT\"\n",
    "\n",
    "\n",
    "# SQLite DB 폴더 존재 여부 확인 및 생성\n",
    "db_dir = os.path.dirname(sqlite_db)\n",
    "if not os.path.exists(db_dir):\n",
    "    os.makedirs(db_dir)\n",
    "\n",
    "\n",
    "csv_to_sqlite(csv_file, sqlite_db, table, True)\n",
    "\n",
    "# 3. 데이터 확인 (선택 사항)\n",
    "print(\"\\n--- SQLite 데이터 확인 ---\")\n",
    "try:\n",
    "    conn = sqlite3.connect(sqlite_db)\n",
    "    cursor = conn.cursor()\n",
    "    cursor.execute(f\"SELECT * FROM {table};\")\n",
    "    rows = cursor.fetchall()\n",
    "except sqlite3.Error as e:\n",
    "    print(f\"데이터 확인 중 오류 발생: {e}\")\n",
    "finally:\n",
    "    if 'conn' in locals() and conn:\n",
    "        conn.close()\n",
    "\n",
    "# 샘플 출력\n",
    "for row in rows[:10]:\n",
    "    print(row)"
   ]
  }
 ],
 "metadata": {
  "kernelspec": {
   "display_name": "embedding-ota6bejb-py3.11",
   "language": "python",
   "name": "python3"
  },
  "language_info": {
   "codemirror_mode": {
    "name": "ipython",
    "version": 3
   },
   "file_extension": ".py",
   "mimetype": "text/x-python",
   "name": "python",
   "nbconvert_exporter": "python",
   "pygments_lexer": "ipython3",
   "version": "3.11.9"
  }
 },
 "nbformat": 4,
 "nbformat_minor": 2
}
