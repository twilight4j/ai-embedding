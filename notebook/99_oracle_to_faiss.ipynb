{
 "cells": [
  {
   "cell_type": "markdown",
   "id": "8a85c368",
   "metadata": {},
   "source": [
    "API 키 로드\n",
    "`.env` 에 설정되어 있어야 합니다.\n",
    "```\n",
    "OPENAI_API_KEY=sk-proj-******** # Your Key\n",
    "```"
   ]
  },
  {
   "cell_type": "code",
   "execution_count": 13,
   "id": "a38267c1",
   "metadata": {},
   "outputs": [
    {
     "data": {
      "text/plain": [
       "True"
      ]
     },
     "execution_count": 13,
     "metadata": {},
     "output_type": "execute_result"
    }
   ],
   "source": [
    "from dotenv import load_dotenv\n",
    "\n",
    "# API 키 정보 로드\n",
    "load_dotenv()"
   ]
  },
  {
   "cell_type": "code",
   "execution_count": 14,
   "id": "1f58aa50",
   "metadata": {},
   "outputs": [
    {
     "name": "stdout",
     "output_type": "stream",
     "text": [
      "LangSmith 추적을 시작합니다.\n",
      "[프로젝트명]\n",
      "AI-SEARCH\n"
     ]
    }
   ],
   "source": [
    "# LangSmith 추적을 설정합니다. https://smith.langchain.com\n",
    "# !pip install -qU langchain-teddynote\n",
    "from langchain_teddynote import logging\n",
    "\n",
    "# 프로젝트 이름을 입력합니다.\n",
    "logging.langsmith(\"AI-SEARCH\")"
   ]
  },
  {
   "cell_type": "code",
   "execution_count": 4,
   "id": "9e944c70",
   "metadata": {},
   "outputs": [],
   "source": [
    "import oracledb\n",
    "import sqlite3\n",
    "import os\n",
    "from langchain_openai.embeddings import OpenAIEmbeddings\n",
    "from langchain_openai import ChatOpenAI\n",
    "from langchain_community.vectorstores import FAISS\n",
    "from langchain_core.output_parsers import StrOutputParser\n",
    "from langchain_core.runnables import RunnablePassthrough\n",
    "from langchain_core.prompts import PromptTemplate"
   ]
  },
  {
   "cell_type": "code",
   "execution_count": 16,
   "id": "69ce790a",
   "metadata": {},
   "outputs": [],
   "source": [
    "####################################\n",
    "# 1. Oracle 데이터베이스 연결 및 조회(선택)\n",
    "####################################\n",
    "\n",
    "# SQL 파일 읽기\n",
    "sql_path = '../.db/oracle/product.sql'\n",
    "with open(sql_path, 'r', encoding='utf-8') as f:\n",
    "    sql = f.read().strip()\n",
    "\n",
    "# Oracle 데이터베이스 연결 정보\n",
    "connection = oracledb.connect(\n",
    "    user=os.getenv(\"ORACLE_USER\"),\n",
    "    password=os.getenv(\"ORACLE_PASSWORD\"),\n",
    "    host=os.getenv(\"ORACLE_HOST\"),\n",
    "    port=os.getenv(\"ORACLE_PORT\"),\n",
    "    sid=os.getenv(\"ORACLE_SID\")\n",
    "    )\n",
    "\n",
    "cursor = connection.cursor()\n",
    "cursor.execute(sql)\n",
    "rows = cursor.fetchall()\n",
    "\n",
    "# 연결 종료\n",
    "cursor.close()\n",
    "connection.close()"
   ]
  },
  {
   "cell_type": "code",
   "execution_count": 3,
   "id": "0f74daaf",
   "metadata": {},
   "outputs": [
    {
     "ename": "NameError",
     "evalue": "name 'sqlite3' is not defined",
     "output_type": "error",
     "traceback": [
      "\u001b[31m---------------------------------------------------------------------------\u001b[39m",
      "\u001b[31mNameError\u001b[39m                                 Traceback (most recent call last)",
      "\u001b[36mCell\u001b[39m\u001b[36m \u001b[39m\u001b[32mIn[3]\u001b[39m\u001b[32m, line 6\u001b[39m\n\u001b[32m      4\u001b[39m sql = \u001b[33m\"\u001b[39m\u001b[33mSELECT * FROM PRODUCT\u001b[39m\u001b[33m\"\u001b[39m\n\u001b[32m      5\u001b[39m \u001b[38;5;66;03m# SQLite 데이터베이스 연결\u001b[39;00m\n\u001b[32m----> \u001b[39m\u001b[32m6\u001b[39m conn = \u001b[43msqlite3\u001b[49m.connect(\u001b[33m'\u001b[39m\u001b[33m../.db/sqlite/my_database.db\u001b[39m\u001b[33m'\u001b[39m)\n\u001b[32m      7\u001b[39m cursor = conn.cursor()\n\u001b[32m      9\u001b[39m \u001b[38;5;66;03m# SQL 쿼리 실행\u001b[39;00m\n",
      "\u001b[31mNameError\u001b[39m: name 'sqlite3' is not defined"
     ]
    }
   ],
   "source": [
    "####################################\n",
    "# 1. sqlite 데이터베이스 연결 및 조회(선택)\n",
    "####################################\n",
    "sql = \"SELECT * FROM PRODUCT\"\n",
    "# SQLite 데이터베이스 연결\n",
    "conn = sqlite3.connect('../.db/sqlite/my_database.db')\n",
    "cursor = conn.cursor()\n",
    "\n",
    "# SQL 쿼리 실행\n",
    "cursor.execute(sql)\n",
    "rows = cursor.fetchall()\n",
    "\n",
    "# 연결 종료\n",
    "cursor.close()\n",
    "conn.close()"
   ]
  },
  {
   "cell_type": "code",
   "execution_count": 1,
   "id": "a0ac6210",
   "metadata": {},
   "outputs": [],
   "source": [
    "# 2. 주어진 컬럼들을 바탕으로 ML 검색에 용이하도록 문맥에 맞게 병합\n",
    "# 주어진 컬럼들을 바탕으로 ML 검색에 용이하도록 문맥에 맞게 병합\n",
    "\n",
    "# 컬럼 인덱스 정의 (실제 CSV 파일의 컬럼 순서에 맞게 조정해야 합니다)\n",
    "# 이 부분은 실제 데이터의 컬럼 순서와 일치해야 합니다.\n",
    "COLUMN_INDICES = {\n",
    "    \"GOODS_NO\": 0,\n",
    "    \"GOODS_NM\": 1,\n",
    "    \"GOODS_STAT_SCT_NM\": 2,\n",
    "    \"BRND_NM\": 3,\n",
    "    \"ARTC_INFO\": 4,\n",
    "    \"OPT_DISP_NM\": 5,\n",
    "    \"OPT_VAL_DESC\": 6,\n",
    "    \"CATEGORY_NMS\": 7,\n",
    "    \"SALE_PRC\": 8,\n",
    "    \"DSCNT_SALE_PRC\": 9,\n",
    "    \"CARD_DC_RATE\": 10,\n",
    "    \"CARD_DC_NAME\": 11,\n",
    "    \"CARD_DC_NAME_LIST\": 12,\n",
    "    \"MAX_BENEFIT_PRICE\": 13\n",
    "}\n",
    "\n",
    "def generate_search_text_from_tuple(product_data_tuple):\n",
    "    \"\"\"\n",
    "    주어진 상품 정보 튜플에서 검색에 최적화된 통합 텍스트 문자열을 생성합니다.\n",
    "    머신러닝 기반의 의미론적 검색에 유리하도록 문맥을 구성합니다.\n",
    "\n",
    "    Args:\n",
    "        product_data_tuple (tuple): 상품 정보를 담고 있는 튜플.\n",
    "                                  COLUMNS_INDICES에 정의된 순서와 일치해야 합니다.\n",
    "\n",
    "    Returns:\n",
    "        str: 검색 인덱싱을 위한 상품 정보를 결합한 문자열.\n",
    "    \"\"\"\n",
    "\n",
    "    search_components = []\n",
    "\n",
    "    # 튜플에서 데이터 추출 (COLUMN_INDICES를 활용하여 가독성을 높입니다)\n",
    "    goods_nm = product_data_tuple[COLUMN_INDICES[\"GOODS_NM\"]].strip()\n",
    "    goods_stat_sct_nm = product_data_tuple[COLUMN_INDICES[\"GOODS_STAT_SCT_NM\"]].strip()\n",
    "    brnd_nm = product_data_tuple[COLUMN_INDICES[\"BRND_NM\"]].strip()\n",
    "    artc_info = product_data_tuple[COLUMN_INDICES[\"ARTC_INFO\"]].strip()\n",
    "    opt_disp_nm = product_data_tuple[COLUMN_INDICES[\"OPT_DISP_NM\"]].strip()\n",
    "    opt_val_desc = product_data_tuple[COLUMN_INDICES[\"OPT_VAL_DESC\"]].strip()\n",
    "    category_nms = product_data_tuple[COLUMN_INDICES[\"CATEGORY_NMS\"]].strip()\n",
    "    \n",
    "    # 숫자 값은 형 변환 시 에러 방지를 위해 get 대신 직접 접근 후 try-except 처리\n",
    "    sale_prc_str = product_data_tuple[COLUMN_INDICES[\"SALE_PRC\"]]\n",
    "    dscnt_sale_prc_str = product_data_tuple[COLUMN_INDICES[\"DSCNT_SALE_PRC\"]]\n",
    "    card_dc_rate_str = product_data_tuple[COLUMN_INDICES[\"CARD_DC_RATE\"]]\n",
    "    max_benefit_price_str = product_data_tuple[COLUMN_INDICES[\"MAX_BENEFIT_PRICE\"]]\n",
    "    \n",
    "    sale_prc = int(sale_prc_str) if sale_prc_str else None\n",
    "    dscnt_sale_prc = int(dscnt_sale_prc_str) if dscnt_sale_prc_str else None\n",
    "    card_dc_rate = int(card_dc_rate_str) if card_dc_rate_str else None\n",
    "    max_benefit_price = int(max_benefit_price_str) if max_benefit_price_str else None\n",
    "\n",
    "    card_dc_name = product_data_tuple[COLUMN_INDICES[\"CARD_DC_NAME\"]].strip()\n",
    "\n",
    "\n",
    "    # 1. 브랜드명 + 품목 정보 (카테고리/ARTC_INFO) + 상품명 조합\n",
    "    # 상품의 핵심적인 정체성을 명확히 합니다.\n",
    "    if brnd_nm and goods_nm:\n",
    "        # ARTC_INFO에서 품목의 구체적인 타입을 추론하여 문맥에 더합니다.\n",
    "        item_type = ''\n",
    "        if artc_info:\n",
    "            # '>' 기호로 구분된 품목 정보 중 가장 마지막 부분을 가져와 특정 품목 타입을 얻습니다.\n",
    "            item_type_parts = [part.strip() for part in artc_info.split('>') if part.strip()]\n",
    "            if item_type_parts:\n",
    "                item_type = item_type_parts[-1]\n",
    "                # 'TV 기타'와 같은 모호한 표현을 'TV 거치대' 등으로 명확히 합니다.\n",
    "                if item_type == 'TV 기타':\n",
    "                    item_type = 'TV 거치대'\n",
    "                elif item_type.endswith('TV'): # 'UHD TV' 등 TV 종류를 유지합니다.\n",
    "                    item_type = item_type\n",
    "                elif item_type == '기타': # A/V 기타 > 기타와 같은 경우를 처리합니다.\n",
    "                    item_type = '기타 가전제품' # 좀 더 명확한 표현을 사용합니다.\n",
    "                elif '스탠드' in item_type or '거치대' in item_type: # 예: 이젤형 TV스탠드, 모니터암\n",
    "                    item_type = item_type\n",
    "                else: # ARTC_INFO가 너무 일반적인 경우, 품목명이나 카테고리에서 가져올 수도 있습니다.\n",
    "                    if category_nms:\n",
    "                        main_category_parts = [part.strip() for part in category_nms.split('>')]\n",
    "                        if main_category_parts and main_category_parts[0] != 'TV·영상가전': # 이미 TV인 경우 제외\n",
    "                            item_type = main_category_parts[0]\n",
    "\n",
    "\n",
    "        # 품목 타입이 있고, 상품명에 이미 품목 타입이 포함되어 있지 않다면 추가합니다.\n",
    "        if item_type and item_type not in goods_nm:\n",
    "            search_components.append(f\"{brnd_nm}의 {item_type}, {goods_nm}.\")\n",
    "        else: # 품목 타입이 없거나 상품명에 이미 포함되어 있다면 브랜드명과 상품명만 사용합니다.\n",
    "            search_components.append(f\"{brnd_nm}의 {goods_nm}.\")\n",
    "    elif goods_nm: # 브랜드명이 없는 경우 상품명만 사용합니다.\n",
    "        search_components.append(f\"{goods_nm}.\")\n",
    "\n",
    "\n",
    "    # 2. 제품의 주요 특성 (OPT_DISP_NM 및 OPT_VAL_DESC) 조합\n",
    "    if opt_disp_nm and opt_val_desc:\n",
    "        display_names = [name.strip() for name in opt_disp_nm.split(',') if name.strip()]\n",
    "        values = [val.strip() for val in opt_val_desc.split(',') if val.strip()]\n",
    "\n",
    "        # 각 특성 항목과 값을 '항목: 값' 형태로 결합합니다.\n",
    "        characteristics = []\n",
    "        for i in range(min(len(display_names), len(values))):\n",
    "            # 비어있는 항목이나 '스마트기능'처럼 반복되는 용어는 건너뜁니다.\n",
    "            # '스마트기능'이 반복되는 경우, 첫 번째 '스마트기능' 뒤에 모든 스마트기능 값을 나열합니다.\n",
    "            if display_names[i] == '스마트기능':\n",
    "                if i > 0 and display_names[i-1] == '스마트기능':\n",
    "                    continue # 이미 처리되었으므로 건너뜁니다.\n",
    "                \n",
    "                # 모든 스마트기능 값을 모아서 처리\n",
    "                all_smart_features = []\n",
    "                for j in range(i, len(display_names)):\n",
    "                    if display_names[j] == '스마트기능' and j < len(values):\n",
    "                        all_smart_features.append(values[j])\n",
    "                    else:\n",
    "                        break # 스마트기능이 끝나면 반복 중단\n",
    "\n",
    "                if all_smart_features:\n",
    "                    characteristics.append(f\"스마트기능: {', '.join(all_smart_features)}\")\n",
    "            else: # 일반적인 특성\n",
    "                if display_names[i] and values[i]:\n",
    "                    characteristics.append(f\"{display_names[i]}: {values[i]}\")\n",
    "\n",
    "        if characteristics:\n",
    "            search_components.append(\"주요 특징: \" + \", \".join(characteristics) + \".\")\n",
    "\n",
    "    # 3. 카테고리명 추가\n",
    "    if category_nms:\n",
    "        # '|' 기호를 ', '로, '>' 기호를 ' > '로 바꾸어 카테고리 계층 및 다중 카테고리를 표현합니다.\n",
    "        formatted_categories = category_nms.replace('|', ', ').replace('>', ' > ')\n",
    "        search_components.append(f\"카테고리: {formatted_categories}.\")\n",
    "\n",
    "    # 4. 상품 상태 추가\n",
    "    if goods_stat_sct_nm and goods_stat_sct_nm != '정상상품': # '정상상품'이 아닌 경우에만 추가합니다.\n",
    "        search_components.append(f\"상품 상태: {goods_stat_sct_nm}.\")\n",
    "\n",
    "    # 5. 가격 및 할인 정보 추가\n",
    "    price_info_components = []\n",
    "    if sale_prc is not None:\n",
    "        price_info_components.append(f\"판매가 {sale_prc:,}원\") # 천단위 콤마 추가\n",
    "    if dscnt_sale_prc is not None and sale_prc is not None and dscnt_sale_prc < sale_prc:\n",
    "        price_info_components.append(f\"할인가 {dscnt_sale_prc:,}원\") # 천단위 콤마 추가\n",
    "    if card_dc_rate is not None and card_dc_rate > 0 and card_dc_name:\n",
    "        if max_benefit_price is not None:\n",
    "            price_info_components.append(f\"{card_dc_name} 카드 사용 시 {card_dc_rate}% 할인되어 최대 {max_benefit_price:,}원\") # 천단위 콤마 추가\n",
    "        else:\n",
    "            price_info_components.append(f\"{card_dc_name} 카드 사용 시 {card_dc_rate}% 할인\")\n",
    "\n",
    "    if price_info_components:\n",
    "        search_components.append(\"가격 정보: \" + \", \".join(price_info_components) + \".\")\n",
    "\n",
    "    # 모든 구성 요소를 하나의 문자열로 결합하고 앞뒤 공백을 제거합니다.\n",
    "    return \" \".join(search_components).strip()"
   ]
  },
  {
   "cell_type": "markdown",
   "id": "c6e7fd95",
   "metadata": {},
   "source": []
  },
  {
   "cell_type": "code",
   "execution_count": 2,
   "id": "48bbd999",
   "metadata": {},
   "outputs": [
    {
     "ename": "NameError",
     "evalue": "name 'rows' is not defined",
     "output_type": "error",
     "traceback": [
      "\u001b[31m---------------------------------------------------------------------------\u001b[39m",
      "\u001b[31mNameError\u001b[39m                                 Traceback (most recent call last)",
      "\u001b[36mCell\u001b[39m\u001b[36m \u001b[39m\u001b[32mIn[2]\u001b[39m\u001b[32m, line 9\u001b[39m\n\u001b[32m      4\u001b[39m ids = []\n\u001b[32m      6\u001b[39m \u001b[33;03m\"\"\"\u001b[39;00m\n\u001b[32m      7\u001b[39m \u001b[33;03m- 예시: 삼성전자의 UHD TV, 125.7cm 4K UHD 비즈니스 TV LH50BEAHLGFXKR (설치유형 선택가능). 카테고리: TV·영상가전 > TV. 가격 정보: 판매가 559,000원.\u001b[39;00m\n\u001b[32m      8\u001b[39m \u001b[33;03m\"\"\"\u001b[39;00m\n\u001b[32m----> \u001b[39m\u001b[32m9\u001b[39m \u001b[38;5;28;01mfor\u001b[39;00m row \u001b[38;5;129;01min\u001b[39;00m \u001b[43mrows\u001b[49m:\n\u001b[32m     10\u001b[39m     GOODS_NO = row\n\u001b[32m     11\u001b[39m     metadatas.append({\u001b[33m\"\u001b[39m\u001b[33mGOODS_NO\u001b[39m\u001b[33m\"\u001b[39m: GOODS_NO})\n",
      "\u001b[31mNameError\u001b[39m: name 'rows' is not defined"
     ]
    }
   ],
   "source": [
    "# documents 리스트 생성\n",
    "documents = []\n",
    "metadatas = []\n",
    "ids = []\n",
    "\n",
    "\"\"\"\n",
    "- 예시: 삼성전자의 UHD TV, 125.7cm 4K UHD 비즈니스 TV LH50BEAHLGFXKR (설치유형 선택가능). 카테고리: TV·영상가전 > TV. 가격 정보: 판매가 559,000원.\n",
    "\"\"\"\n",
    "for row in rows:\n",
    "    GOODS_NO = row\n",
    "    metadatas.append({\"GOODS_NO\": GOODS_NO})\n",
    "    search_text = generate_search_text_from_tuple(row)\n",
    "    documents.append(search_text)\n",
    "    ids.append(str(GOODS_NO))"
   ]
  },
  {
   "cell_type": "code",
   "execution_count": null,
   "id": "619ff163",
   "metadata": {},
   "outputs": [],
   "source": [
    "# 단계 2: 문서 분할(Split Documents)\n",
    "# text_splitter = RecursiveCharacterTextSplitter(chunk_size=500, chunk_overlap=50)\n",
    "# split_documents = text_splitter.split_documents(docs)\n",
    "# print(f\"분할된 청크의수: {len(split_documents)}\")"
   ]
  },
  {
   "cell_type": "code",
   "execution_count": 9,
   "id": "fbe449e2",
   "metadata": {},
   "outputs": [],
   "source": [
    "# 단계 3: 임베딩(Embedding) 생성\n",
    "\n",
    "embeddings = OpenAIEmbeddings(model=\"text-embedding-3-small\")  # 1536 차원\n",
    "\n",
    "# dimensions 파라미터 설정 (원하는 차원 수로 축소)\n",
    "# embeddings = OpenAIEmbeddings(\n",
    "#     model=\"text-embedding-3-small\",\n",
    "#     dimensions=512  # 512 차원으로 축소 (최대 1536까지 가능)\n",
    "# )"
   ]
  },
  {
   "cell_type": "code",
   "execution_count": 10,
   "id": "0a1869c4",
   "metadata": {},
   "outputs": [
    {
     "ename": "IndexError",
     "evalue": "list index out of range",
     "output_type": "error",
     "traceback": [
      "\u001b[31m---------------------------------------------------------------------------\u001b[39m",
      "\u001b[31mIndexError\u001b[39m                                Traceback (most recent call last)",
      "\u001b[36mCell\u001b[39m\u001b[36m \u001b[39m\u001b[32mIn[10]\u001b[39m\u001b[32m, line 7\u001b[39m\n\u001b[32m      1\u001b[39m \u001b[38;5;66;03m# 단계 4: DB 생성(Create DB) 및 저장\u001b[39;00m\n\u001b[32m      2\u001b[39m \u001b[38;5;66;03m# 벡터스토어를 생성합니다.\u001b[39;00m\n\u001b[32m      3\u001b[39m \n\u001b[32m      4\u001b[39m \u001b[38;5;66;03m# DB 경로 설정\u001b[39;00m\n\u001b[32m      5\u001b[39m persist_directory = \u001b[33m\"\u001b[39m\u001b[33m../.db/faiss\u001b[39m\u001b[33m\"\u001b[39m\n\u001b[32m----> \u001b[39m\u001b[32m7\u001b[39m vectorstore = \u001b[43mFAISS\u001b[49m\u001b[43m.\u001b[49m\u001b[43mfrom_texts\u001b[49m\u001b[43m(\u001b[49m\n\u001b[32m      8\u001b[39m \u001b[43m    \u001b[49m\u001b[43mtexts\u001b[49m\u001b[43m=\u001b[49m\u001b[43mdocuments\u001b[49m\u001b[43m,\u001b[49m\n\u001b[32m      9\u001b[39m \u001b[43m    \u001b[49m\u001b[43membedding\u001b[49m\u001b[43m=\u001b[49m\u001b[43membeddings\u001b[49m\u001b[43m,\u001b[49m\n\u001b[32m     10\u001b[39m \u001b[43m    \u001b[49m\u001b[43mmetadatas\u001b[49m\u001b[43m=\u001b[49m\u001b[43mmetadatas\u001b[49m\u001b[43m,\u001b[49m\n\u001b[32m     11\u001b[39m \u001b[43m    \u001b[49m\u001b[43mids\u001b[49m\u001b[43m=\u001b[49m\u001b[43mids\u001b[49m\n\u001b[32m     12\u001b[39m \u001b[43m)\u001b[49m\n\u001b[32m     14\u001b[39m \u001b[38;5;66;03m# 로컬에 저장\u001b[39;00m\n\u001b[32m     15\u001b[39m vectorstore.save_local(persist_directory)\n",
      "\u001b[36mFile \u001b[39m\u001b[32mc:\\Users\\1327472\\AppData\\Local\\pypoetry\\Cache\\virtualenvs\\embedding-ota6bejb-py3.11\\Lib\\site-packages\\langchain_community\\vectorstores\\faiss.py:1044\u001b[39m, in \u001b[36mFAISS.from_texts\u001b[39m\u001b[34m(cls, texts, embedding, metadatas, ids, **kwargs)\u001b[39m\n\u001b[32m   1025\u001b[39m \u001b[38;5;250m\u001b[39m\u001b[33;03m\"\"\"Construct FAISS wrapper from raw documents.\u001b[39;00m\n\u001b[32m   1026\u001b[39m \n\u001b[32m   1027\u001b[39m \u001b[33;03mThis is a user friendly interface that:\u001b[39;00m\n\u001b[32m   (...)\u001b[39m\u001b[32m   1041\u001b[39m \u001b[33;03m        faiss = FAISS.from_texts(texts, embeddings)\u001b[39;00m\n\u001b[32m   1042\u001b[39m \u001b[33;03m\"\"\"\u001b[39;00m\n\u001b[32m   1043\u001b[39m embeddings = embedding.embed_documents(texts)\n\u001b[32m-> \u001b[39m\u001b[32m1044\u001b[39m \u001b[38;5;28;01mreturn\u001b[39;00m \u001b[38;5;28;43mcls\u001b[39;49m\u001b[43m.\u001b[49m\u001b[43m__from\u001b[49m\u001b[43m(\u001b[49m\n\u001b[32m   1045\u001b[39m \u001b[43m    \u001b[49m\u001b[43mtexts\u001b[49m\u001b[43m,\u001b[49m\n\u001b[32m   1046\u001b[39m \u001b[43m    \u001b[49m\u001b[43membeddings\u001b[49m\u001b[43m,\u001b[49m\n\u001b[32m   1047\u001b[39m \u001b[43m    \u001b[49m\u001b[43membedding\u001b[49m\u001b[43m,\u001b[49m\n\u001b[32m   1048\u001b[39m \u001b[43m    \u001b[49m\u001b[43mmetadatas\u001b[49m\u001b[43m=\u001b[49m\u001b[43mmetadatas\u001b[49m\u001b[43m,\u001b[49m\n\u001b[32m   1049\u001b[39m \u001b[43m    \u001b[49m\u001b[43mids\u001b[49m\u001b[43m=\u001b[49m\u001b[43mids\u001b[49m\u001b[43m,\u001b[49m\n\u001b[32m   1050\u001b[39m \u001b[43m    \u001b[49m\u001b[43m*\u001b[49m\u001b[43m*\u001b[49m\u001b[43mkwargs\u001b[49m\u001b[43m,\u001b[49m\n\u001b[32m   1051\u001b[39m \u001b[43m\u001b[49m\u001b[43m)\u001b[49m\n",
      "\u001b[36mFile \u001b[39m\u001b[32mc:\\Users\\1327472\\AppData\\Local\\pypoetry\\Cache\\virtualenvs\\embedding-ota6bejb-py3.11\\Lib\\site-packages\\langchain_community\\vectorstores\\faiss.py:1001\u001b[39m, in \u001b[36mFAISS.__from\u001b[39m\u001b[34m(cls, texts, embeddings, embedding, metadatas, ids, normalize_L2, distance_strategy, **kwargs)\u001b[39m\n\u001b[32m    998\u001b[39m     index = faiss.IndexFlatIP(\u001b[38;5;28mlen\u001b[39m(embeddings[\u001b[32m0\u001b[39m]))\n\u001b[32m    999\u001b[39m \u001b[38;5;28;01melse\u001b[39;00m:\n\u001b[32m   1000\u001b[39m     \u001b[38;5;66;03m# Default to L2, currently other metric types not initialized.\u001b[39;00m\n\u001b[32m-> \u001b[39m\u001b[32m1001\u001b[39m     index = faiss.IndexFlatL2(\u001b[38;5;28mlen\u001b[39m(\u001b[43membeddings\u001b[49m\u001b[43m[\u001b[49m\u001b[32;43m0\u001b[39;49m\u001b[43m]\u001b[49m))\n\u001b[32m   1002\u001b[39m docstore = kwargs.pop(\u001b[33m\"\u001b[39m\u001b[33mdocstore\u001b[39m\u001b[33m\"\u001b[39m, InMemoryDocstore())\n\u001b[32m   1003\u001b[39m index_to_docstore_id = kwargs.pop(\u001b[33m\"\u001b[39m\u001b[33mindex_to_docstore_id\u001b[39m\u001b[33m\"\u001b[39m, {})\n",
      "\u001b[31mIndexError\u001b[39m: list index out of range"
     ]
    }
   ],
   "source": [
    "# 단계 4: DB 생성(Create DB) 및 저장\n",
    "# 벡터스토어를 생성합니다.\n",
    "\n",
    "# DB 경로 설정\n",
    "persist_directory = \"../.db/faiss\"\n",
    "\n",
    "vectorstore = FAISS.from_texts(\n",
    "    texts=documents,\n",
    "    embedding=embeddings,\n",
    "    metadatas=metadatas,\n",
    "    ids=ids\n",
    ")\n",
    "\n",
    "# 로컬에 저장\n",
    "vectorstore.save_local(persist_directory)\n",
    "\n",
    "print(f\"총 {len(documents)}개의 상품 정보가 FAISS에 저장되었습니다.\")"
   ]
  },
  {
   "cell_type": "code",
   "execution_count": 7,
   "id": "56e1c4b0",
   "metadata": {},
   "outputs": [
    {
     "ename": "NameError",
     "evalue": "name 'persist_directory' is not defined",
     "output_type": "error",
     "traceback": [
      "\u001b[31m---------------------------------------------------------------------------\u001b[39m",
      "\u001b[31mNameError\u001b[39m                                 Traceback (most recent call last)",
      "\u001b[36mCell\u001b[39m\u001b[36m \u001b[39m\u001b[32mIn[7]\u001b[39m\u001b[32m, line 3\u001b[39m\n\u001b[32m      1\u001b[39m \u001b[38;5;66;03m# 4. Vectorstore 검색\u001b[39;00m\n\u001b[32m      2\u001b[39m vectorstore = FAISS.load_local(\n\u001b[32m----> \u001b[39m\u001b[32m3\u001b[39m     \u001b[43mpersist_directory\u001b[49m, \n\u001b[32m      4\u001b[39m     embeddings, \n\u001b[32m      5\u001b[39m     allow_dangerous_deserialization=\u001b[38;5;28;01mTrue\u001b[39;00m)\n\u001b[32m      7\u001b[39m \u001b[38;5;66;03m# 검색할 쿼리 설정 (원하는 검색어로 변경 가능)\u001b[39;00m\n\u001b[32m      8\u001b[39m query = \u001b[33m\"\u001b[39m\u001b[33m삼성\u001b[39m\u001b[33m\"\u001b[39m  \u001b[38;5;66;03m# 예시 쿼리: 원하는 검색어로 변경하세요\u001b[39;00m\n",
      "\u001b[31mNameError\u001b[39m: name 'persist_directory' is not defined"
     ]
    }
   ],
   "source": [
    "\n",
    "# 4. Vectorstore 검색\n",
    "vectorstore = FAISS.load_local(\n",
    "    persist_directory, \n",
    "    embeddings, \n",
    "    allow_dangerous_deserialization=True)\n",
    "\n",
    "# 검색할 쿼리 설정 (원하는 검색어로 변경 가능)\n",
    "query = \"삼성\"  # 예시 쿼리: 원하는 검색어로 변경하세요\n",
    "filter = {\"GOODS_NO\": '0002577807'}\n",
    "\n",
    "# 쿼리와 유사한 상품 5개 검색\n",
    "results_with_score = vectorstore.similarity_search_with_score(\n",
    "    query=query, \n",
    "    k=5,  # 반환할 결과 수\n",
    "    filter = filter # 메타데이터 필터 적용\n",
    ")\n",
    "\n",
    "# 결과 출력\n",
    "print(f\"'{query}'와 유사한 상품 검색 결과 (최대 5개):\")\n",
    "print(\"-\" * 60)\n",
    "\n",
    "if results_with_score:\n",
    "    for i, (doc, score) in enumerate(results_with_score, 1):\n",
    "        print(f\"[결과 {i}]\")\n",
    "        print(f\"상품정보: {doc.page_content}\")\n",
    "        print(f\"상품번호: {doc.metadata['GOODS_NO']}\")\n",
    "        print(f\"유사도 점수: {score}\")  # 낮을수록 더 유사함\n",
    "        print(f\"메타데이터: {doc.metadata}\")  # 모든 메타데이터 출력\n",
    "        print(\"-\" * 60)\n",
    "else:\n",
    "    print(\"검색 결과가 없습니다.\")\n"
   ]
  },
  {
   "cell_type": "code",
   "execution_count": 5,
   "id": "7487e36c",
   "metadata": {},
   "outputs": [
    {
     "ename": "NameError",
     "evalue": "name 'vectorstore' is not defined",
     "output_type": "error",
     "traceback": [
      "\u001b[31m---------------------------------------------------------------------------\u001b[39m",
      "\u001b[31mNameError\u001b[39m                                 Traceback (most recent call last)",
      "\u001b[36mCell\u001b[39m\u001b[36m \u001b[39m\u001b[32mIn[5]\u001b[39m\u001b[32m, line 3\u001b[39m\n\u001b[32m      1\u001b[39m \u001b[38;5;66;03m# 단계 5: 검색기(Retriever) 생성\u001b[39;00m\n\u001b[32m      2\u001b[39m \u001b[38;5;66;03m# 문서에 포함되어 있는 정보를 검색하고 생성합니다.\u001b[39;00m\n\u001b[32m----> \u001b[39m\u001b[32m3\u001b[39m retriever = \u001b[43mvectorstore\u001b[49m.as_retriever(\n\u001b[32m      4\u001b[39m     search_kwargs={\n\u001b[32m      5\u001b[39m         \u001b[33m\"\u001b[39m\u001b[33mfilter\u001b[39m\u001b[33m\"\u001b[39m: {\u001b[33m\"\u001b[39m\u001b[33mGOODS_NO\u001b[39m\u001b[33m\"\u001b[39m: \u001b[33m\"\u001b[39m\u001b[33m0031055945\u001b[39m\u001b[33m\"\u001b[39m},  \u001b[38;5;66;03m# 원하는 메타데이터 필터 조건\u001b[39;00m\n\u001b[32m      6\u001b[39m         \u001b[33m\"\u001b[39m\u001b[33mk\u001b[39m\u001b[33m\"\u001b[39m: \u001b[32m5\u001b[39m  \u001b[38;5;66;03m# 반환할 결과 수\u001b[39;00m\n\u001b[32m      7\u001b[39m     }\n\u001b[32m      8\u001b[39m )\n",
      "\u001b[31mNameError\u001b[39m: name 'vectorstore' is not defined"
     ]
    }
   ],
   "source": [
    "# 단계 5: 검색기(Retriever) 생성\n",
    "# 문서에 포함되어 있는 정보를 검색하고 생성합니다.\n",
    "retriever = vectorstore.as_retriever(\n",
    "    search_kwargs={\n",
    "        \"filter\": {\"GOODS_NO\": \"0031055945\"},  # 원하는 메타데이터 필터 조건\n",
    "        \"k\": 5  # 반환할 결과 수\n",
    "    }\n",
    ")"
   ]
  },
  {
   "cell_type": "code",
   "execution_count": 37,
   "id": "32b719b8",
   "metadata": {},
   "outputs": [
    {
     "data": {
      "text/plain": [
       "[Document(id='0002577807', metadata={'GOODS_NO': '0002577807'}, page_content='이파람의 여름제품(제습기), 산업용 제습기 PDM330C 외 2종')]"
      ]
     },
     "execution_count": 37,
     "metadata": {},
     "output_type": "execute_result"
    }
   ],
   "source": [
    "# 검색기에 쿼리를 날려 검색된 chunk 결과를 확인합니다.\n",
    "retriever.invoke(\"제습기\")"
   ]
  },
  {
   "cell_type": "code",
   "execution_count": 21,
   "id": "21c46abd",
   "metadata": {},
   "outputs": [],
   "source": [
    "# 단계 6: 프롬프트 생성(Create Prompt)\n",
    "# 프롬프트를 생성합니다.\n",
    "prompt = PromptTemplate.from_template(\n",
    "    \"\"\"You are a product search assistant for an electronics e-commerce platform. \n",
    "Use the following pieces of retrieved context to answer the question. \n",
    "Answer in Korean.\n",
    "\n",
    "#Context: \n",
    "{context}\n",
    "\n",
    "#Question:\n",
    "{question}\n",
    "\n",
    "#Answer:\"\"\"\n",
    ")"
   ]
  },
  {
   "cell_type": "code",
   "execution_count": 22,
   "id": "accd7a1f",
   "metadata": {},
   "outputs": [],
   "source": [
    "# 단계 7: 언어모델(LLM) 생성\n",
    "# 모델(LLM) 을 생성합니다.\n",
    "llm = ChatOpenAI(model_name=\"gpt-4o\", temperature=0)"
   ]
  },
  {
   "cell_type": "code",
   "execution_count": 23,
   "id": "98a5d25c",
   "metadata": {},
   "outputs": [],
   "source": [
    "# 단계 8: 체인(Chain) 생성\n",
    "chain = (\n",
    "    {\"context\": retriever, \"question\": RunnablePassthrough()}\n",
    "    | prompt\n",
    "    | llm\n",
    "    | StrOutputParser()\n",
    ")"
   ]
  },
  {
   "cell_type": "code",
   "execution_count": 27,
   "id": "bf367a05",
   "metadata": {},
   "outputs": [
    {
     "name": "stdout",
     "output_type": "stream",
     "text": [
      "삼성 일반냉장고[615L] RT62A7049S9, 삼성 일반냉장고[298L] RT31CB5624C3, 일반냉장고 150L 이하 삼성전자 6년이하 A 등이 있습니다.\n"
     ]
    }
   ],
   "source": [
    "# 체인 실행(Run Chain)\n",
    "# 문서에 대한 질의를 입력하고, 답변을 출력합니다.\n",
    "question = \"삼성 냉장고 그거 이름이 뭐더라?\"\n",
    "response = chain.invoke(question)\n",
    "print(response)"
   ]
  }
 ],
 "metadata": {
  "kernelspec": {
   "display_name": "embedding-ota6bejb-py3.11",
   "language": "python",
   "name": "python3"
  },
  "language_info": {
   "codemirror_mode": {
    "name": "ipython",
    "version": 3
   },
   "file_extension": ".py",
   "mimetype": "text/x-python",
   "name": "python",
   "nbconvert_exporter": "python",
   "pygments_lexer": "ipython3",
   "version": "3.11.9"
  }
 },
 "nbformat": 4,
 "nbformat_minor": 5
}
