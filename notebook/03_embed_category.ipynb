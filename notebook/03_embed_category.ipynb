{
 "cells": [
  {
   "cell_type": "markdown",
   "id": "8a85c368",
   "metadata": {},
   "source": [
    "API 키 로드\n",
    "`.env` 에 설정되어 있어야 합니다.\n",
    "```\n",
    "OPENAI_API_KEY=sk-proj-******** # Your Key\n",
    "```"
   ]
  },
  {
   "cell_type": "code",
   "execution_count": 1,
   "id": "a38267c1",
   "metadata": {},
   "outputs": [
    {
     "data": {
      "text/plain": [
       "True"
      ]
     },
     "execution_count": 1,
     "metadata": {},
     "output_type": "execute_result"
    }
   ],
   "source": [
    "from dotenv import load_dotenv\n",
    "\n",
    "# API 키 정보 로드\n",
    "load_dotenv()"
   ]
  },
  {
   "cell_type": "markdown",
   "id": "3c43fd13",
   "metadata": {},
   "source": [
    "LangSmith 추적을 설정합니다.(선택)"
   ]
  },
  {
   "cell_type": "code",
   "execution_count": 2,
   "id": "1f58aa50",
   "metadata": {},
   "outputs": [
    {
     "name": "stdout",
     "output_type": "stream",
     "text": [
      "LangSmith 추적을 시작합니다.\n",
      "[프로젝트명]\n",
      "AI-EMBEDDING\n"
     ]
    }
   ],
   "source": [
    "# LangSmith 추적을 설정합니다. https://smith.langchain.com\n",
    "# !pip install -qU langchain-teddynote\n",
    "from langchain_teddynote import logging\n",
    "\n",
    "# 프로젝트 이름을 입력합니다.\n",
    "logging.langsmith(\"AI-EMBEDDING\")"
   ]
  },
  {
   "cell_type": "code",
   "execution_count": 2,
   "id": "9e944c70",
   "metadata": {},
   "outputs": [],
   "source": [
    "# 라이브러리 선언\n",
    "import sqlite3\n",
    "from langchain_openai.embeddings import OpenAIEmbeddings\n",
    "from langchain_openai import ChatOpenAI\n",
    "from langchain_community.vectorstores import FAISS\n",
    "from langchain_core.output_parsers import StrOutputParser\n",
    "from langchain_core.runnables import RunnablePassthrough\n",
    "from langchain_core.prompts import PromptTemplate\n",
    "import re"
   ]
  },
  {
   "cell_type": "code",
   "execution_count": 9,
   "id": "0f74daaf",
   "metadata": {},
   "outputs": [
    {
     "name": "stdout",
     "output_type": "stream",
     "text": [
      "(1, '음향가전', '스피커', '블루투스스피커')\n",
      "(2, '음향가전', '이어폰', '무선이어폰')\n",
      "(3, '음향가전', '기타', '')\n",
      "(4, '음향가전', '헤드폰', '무선헤드폰')\n",
      "(5, '음향가전', '헤드폰', '유선헤드폰')\n",
      "(6, '생활·주방용품', '주방용품', '그릇·식기')\n",
      "(7, '냉장고·주방가전', '에어프라이어 · 튀김기', '')\n",
      "(8, '음향가전', '스피커', '홈시어터·사운드바')\n",
      "(9, '음향가전', '', '')\n",
      "(10, '음향가전', '이어폰', '유선이어폰')\n"
     ]
    }
   ],
   "source": [
    "# 1. 데이터베이스 연결 및 조회 (SQLite 일 경우)\n",
    "sql = \"SELECT * FROM CATEGORY\"\n",
    "# SQLite 데이터베이스 연결\n",
    "conn = sqlite3.connect('../.db/sqlite/my_database.db')\n",
    "cursor = conn.cursor()\n",
    "\n",
    "# SQL 쿼리 실행\n",
    "cursor.execute(sql)\n",
    "rows = cursor.fetchall()\n",
    "\n",
    "# 샘플 출력\n",
    "for row in rows[:10]:\n",
    "    print(row)\n",
    "\n",
    "# 연결 종료\n",
    "cursor.close()\n",
    "conn.close()"
   ]
  },
  {
   "cell_type": "code",
   "execution_count": 13,
   "id": "a0ac6210",
   "metadata": {},
   "outputs": [],
   "source": [
    "# 2. 주어진 컬럼들을 바탕으로 ML 검색에 용이하도록 문맥에 맞게 병합하는 함수 정의\n",
    "\n",
    "# 이 부분은 실제 데이터의 컬럼 순서와 일치해야 합니다.\n",
    "COLUMN_INDICES = {\n",
    "    \"ID\": 0,\n",
    "    \"LGRP_NM\": 1,\n",
    "    \"MGRP_NM\": 2,\n",
    "    \"SGRP_NM\": 3\n",
    "}\n",
    "\n",
    "def generate_search_text_from_tuple(category_data_tuple):\n",
    "\n",
    "    # 튜플에서 데이터 추출 (COLUMN_INDICES를 활용하여 가독성을 높입니다)\n",
    "    lgrp_nm = category_data_tuple[COLUMN_INDICES[\"LGRP_NM\"]].strip()\n",
    "    mgrp_nm = category_data_tuple[COLUMN_INDICES[\"MGRP_NM\"]].strip()\n",
    "    sgrp_nm = category_data_tuple[COLUMN_INDICES[\"SGRP_NM\"]].strip()\n",
    "    \n",
    "    # 카테고리 이름 중 비어있지 않은 부분만 '>' 구분자로 연결합니다.\n",
    "    parts = [part for part in [lgrp_nm, mgrp_nm, sgrp_nm] if part]\n",
    "    return \">\".join(parts)"
   ]
  },
  {
   "cell_type": "markdown",
   "id": "c6e7fd95",
   "metadata": {},
   "source": []
  },
  {
   "cell_type": "code",
   "execution_count": 14,
   "id": "48bbd999",
   "metadata": {},
   "outputs": [
    {
     "name": "stdout",
     "output_type": "stream",
     "text": [
      "1. 음향가전>스피커>블루투스스피커\n",
      "2. 음향가전>이어폰>무선이어폰\n",
      "3. 음향가전>기타\n",
      "4. 음향가전>헤드폰>무선헤드폰\n",
      "5. 음향가전>헤드폰>유선헤드폰\n",
      "6. 생활·주방용품>주방용품>그릇·식기\n",
      "7. 냉장고·주방가전>에어프라이어 · 튀김기\n",
      "8. 음향가전>스피커>홈시어터·사운드바\n",
      "9. 음향가전\n",
      "10. 음향가전>이어폰>유선이어폰\n"
     ]
    }
   ],
   "source": [
    "# 3. 상품정보를 문맥에 맞게 병합한 `search_text` 를 포함하여 documents 리스트 생성\n",
    "\n",
    "documents = []\n",
    "metadatas = []\n",
    "ids = []\n",
    "\n",
    "for row in rows:\n",
    "    ID, LGRP_NM, MGRP_NM, SGRP_NM = row\n",
    "    metadatas.append(\n",
    "        {\"LGRP_NM\": LGRP_NM, \n",
    "         \"MGRP_NM\": MGRP_NM, \n",
    "         \"SGRP_NM\": SGRP_NM\n",
    "         })\n",
    "    search_text = generate_search_text_from_tuple(row)\n",
    "    documents.append(search_text)\n",
    "\n",
    "# 샘플 출력\n",
    "for i, doc in enumerate(documents[:10]):\n",
    "    print(f\"{i+1}. {doc}\")\n"
   ]
  },
  {
   "cell_type": "code",
   "execution_count": 15,
   "id": "fbe449e2",
   "metadata": {},
   "outputs": [],
   "source": [
    "# 4. 임베딩(Embedding) 생성\n",
    "\n",
    "embeddings = OpenAIEmbeddings(model=\"text-embedding-3-small\")  # 1536 차원\n",
    "\n",
    "# dimensions 파라미터 설정 (원하는 차원 수로 축소)\n",
    "# embeddings = OpenAIEmbeddings(\n",
    "#     model=\"text-embedding-3-small\",\n",
    "#     dimensions=512  # 512 차원으로 축소 (최대 1536까지 가능)\n",
    "# )"
   ]
  },
  {
   "cell_type": "markdown",
   "id": "1580c993",
   "metadata": {},
   "source": [
    "한 번 요청에 임베딩 할 수 있는 토큰 수가 한정되어 있기 때문에 상품 개수를 잘라서 처리합니다."
   ]
  },
  {
   "cell_type": "code",
   "execution_count": 16,
   "id": "0a1869c4",
   "metadata": {},
   "outputs": [
    {
     "name": "stdout",
     "output_type": "stream",
     "text": [
      "처리 중: 1~500번째 상품 / 총 542개\n",
      "처리 중: 501~542번째 상품 / 총 542개\n",
      "총 542개의 상품 정보가 FAISS에 저장되었습니다.\n"
     ]
    }
   ],
   "source": [
    "# 5. DB 생성(Create DB) 및 저장\n",
    "# 벡터스토어를 생성합니다.\n",
    "\n",
    "# DB 경로 설정\n",
    "persist_directory = \"../.db/category\"\n",
    "\n",
    "# 배치 크기 설정\n",
    "BATCH_SIZE = 500\n",
    "total_products = len(documents)\n",
    "\n",
    "# 첫 번째 배치로 FAISS 초기화\n",
    "print(f\"처리 중: 1~{min(BATCH_SIZE, total_products)}번째 상품 / 총 {total_products}개\")\n",
    "first_batch_docs = documents[:BATCH_SIZE]\n",
    "first_batch_metadatas = metadatas[:BATCH_SIZE]\n",
    "first_batch_ids = ids[:BATCH_SIZE]\n",
    "\n",
    "vectorstore = FAISS.from_texts(\n",
    "    texts=first_batch_docs,\n",
    "    embedding=embeddings,\n",
    "    metadatas=first_batch_metadatas,\n",
    "    ids=first_batch_ids\n",
    ")\n",
    "\n",
    "# 나머지 배치 처리\n",
    "for i in range(BATCH_SIZE, total_products, BATCH_SIZE):\n",
    "    end_idx = min(i + BATCH_SIZE, total_products)\n",
    "    print(f\"처리 중: {i+1}~{end_idx}번째 상품 / 총 {total_products}개\")\n",
    "    \n",
    "    batch_docs = documents[i:end_idx]\n",
    "    batch_metadatas = metadatas[i:end_idx]\n",
    "    batch_ids = ids[i:end_idx]\n",
    "    \n",
    "    try:\n",
    "        vectorstore.add_texts(\n",
    "            texts=batch_docs,\n",
    "            metadatas=batch_metadatas,\n",
    "            ids=batch_ids\n",
    "        )\n",
    "    except Exception as e:\n",
    "        print(f\"배치 처리 중 오류 발생: {str(e)}\")\n",
    "        continue\n",
    "\n",
    "# 로컬에 저장\n",
    "vectorstore.save_local(persist_directory)\n",
    "\n",
    "print(f\"총 {total_products}개의 상품 정보가 FAISS에 저장되었습니다.\")"
   ]
  },
  {
   "cell_type": "markdown",
   "id": "4636326c",
   "metadata": {},
   "source": [
    "임베딩 결과를 확인합니다."
   ]
  },
  {
   "cell_type": "code",
   "execution_count": 17,
   "id": "2ebb1554",
   "metadata": {},
   "outputs": [
    {
     "name": "stdout",
     "output_type": "stream",
     "text": [
      "\n",
      "[벡터스토어 임베딩 데이터]\n",
      "------------------------------------------------------------\n",
      "저장된 총 문서 수: 542\n",
      "\n",
      "첫 번째 문서의 문맥 값:\n",
      "TV·영상가전\n",
      "\n",
      "첫 번째 문서의 임베딩 벡터 (처음 10개 값):\n",
      "[-0.00417116 -0.00360547 -0.02399505 -0.08265237  0.00327601 -0.01573976\n",
      "  0.01166184  0.08429348  0.00653337 -0.03110653]\n",
      "------------------------------------------------------------\n"
     ]
    }
   ],
   "source": [
    "\n",
    "# 6. 샘플 출력\n",
    "\n",
    "vectorstore = FAISS.load_local(\n",
    "    persist_directory, \n",
    "    embeddings, \n",
    "    allow_dangerous_deserialization=True)\n",
    "\n",
    "# 검색할 쿼리 설정 (원하는 검색어로 변경 가능)\n",
    "query = \"TV\"  # 예시 쿼리: 원하는 검색어로 변경하세요\n",
    "\n",
    "results_with_score = vectorstore.similarity_search_with_score(\n",
    "    query=query, \n",
    "    k=1  # 반환할 결과 수\n",
    ")\n",
    "\n",
    "# 벡터스토어에서 임베딩된 데이터 확인\n",
    "print(\"\\n[벡터스토어 임베딩 데이터]\")\n",
    "print(\"-\" * 60)\n",
    "print(f\"저장된 총 문서 수: {vectorstore.index.ntotal}\")\n",
    "\n",
    "# 문맥 샘플 확인\n",
    "print(f\"\\n첫 번째 문서의 문맥 값:\")\n",
    "if results_with_score:\n",
    "    for i, (doc, score) in enumerate(results_with_score, 1):\n",
    "        print(f\"{doc.page_content}\")\n",
    "\n",
    "# 임베딩 벡터 샘플 확인\n",
    "sample_vector = vectorstore.index.reconstruct(0)  # 첫 번째 문서의 임베딩 벡터\n",
    "print(f\"\\n첫 번째 문서의 임베딩 벡터 (처음 10개 값):\")\n",
    "print(sample_vector[:10])\n",
    "print(\"-\" * 60)"
   ]
  },
  {
   "cell_type": "code",
   "execution_count": 39,
   "id": "b0c16b0c",
   "metadata": {},
   "outputs": [
    {
     "name": "stdout",
     "output_type": "stream",
     "text": [
      "0: 가구·인테리어>패브릭>카페트·매트\n",
      "1: 냉장고·주방가전>커피머신>반자동커피머신\n",
      "2: 냉장고·주방가전>커피머신>커피용품\n",
      "3: 냉장고·주방가전>커피머신>커피메이커\n",
      "4: 컴퓨터·노트북>전시상품>데스크탑\n",
      "5: 홈앤라이프샵\n",
      "6: 생활·주방용품>주방용품>커피·티·와인용품\n",
      "7: 가구·인테리어>홈데코>기타홈데코\n",
      "8: 냉장고·주방가전>커피머신>캡슐커피머신\n",
      "9: 스마트홈>홈카메라(CCTV)\n"
     ]
    }
   ],
   "source": [
    "query = \"홈카페에 어울리는 세련된 디자인의 커피머신\"  # 예시 쿼리: 원하는 검색어로 변경하세요\n",
    "\n",
    "results_with_score = vectorstore.similarity_search_with_score(\n",
    "    query=query, \n",
    "    k=10  # 반환할 결과 수\n",
    ")\n",
    "\n",
    "for i, (doc, score) in enumerate(results_with_score):\n",
    "    # print(f\"{i}: {doc.metadata.get('LGRP_NM', '정보 없음')} > {doc.metadata.get('MGRP_NM', '정보 없음')} > {doc.metadata.get('SGRP_NM', '정보 없음')}\")\n",
    "    print(f\"{i}: {doc.page_content}\")   "
   ]
  },
  {
   "cell_type": "markdown",
   "id": "25741bbd",
   "metadata": {},
   "source": [
    "**매개변수(parameters)**\n",
    "\n",
    "- `**kwargs`: 검색 함수에 전달할 키워드 인자\n",
    "  - `search_type`: 검색 유형 (\"similarity\", \"mmr\", \"similarity_score_threshold\")\n",
    "  - `search_kwargs`: 추가 검색 옵션\n",
    "    - `k`: 반환할 문서 수 (기본값: 4)\n",
    "    - `score_threshold`: similarity_score_threshold 검색의 최소 유사도 임계값\n",
    "    - `fetch_k`: MMR 알고리즘에 전달할 문서 수 (기본값: 20)\n",
    "    - `lambda_mult`: MMR 결과의 다양성 조절 (0-1 사이, 기본값: 0.5)\n",
    "    - `filter`: 문서 메타데이터 기반 필터링"
   ]
  },
  {
   "cell_type": "code",
   "execution_count": 91,
   "id": "21c004ef",
   "metadata": {},
   "outputs": [
    {
     "name": "stdout",
     "output_type": "stream",
     "text": [
      "0: 냉장고·주방가전>커피머신>반자동커피머신\n",
      "1: 가구·인테리어>패브릭>카페트·매트\n",
      "2: 냉장고·주방가전>커피머신>커피메이커\n",
      "3: 스마트홈>홈카메라(CCTV)\n",
      "4: 냉장고·주방가전>커피머신>커피용품\n",
      "5: 냉장고·주방가전>커피머신>캡슐커피머신\n",
      "6: 냉장고·주방가전>커피머신>전자동커피머신\n",
      "7: 홈앤라이프샵\n",
      "8: Premium Kitchen\n"
     ]
    }
   ],
   "source": [
    "query = \"홈카페 디자인 커피머신\"  # 예시 쿼리: 원하는 검색어로 변경하세요\n",
    "\n",
    "retriever = vectorstore.as_retriever(\n",
    "    search_type=\"similarity_score_threshold\", #similarity, similarity_score_threshold, mmr\n",
    "    search_kwargs={\n",
    "        \"k\": 11,\n",
    "        \"score_threshold\": 0.09\n",
    "        # lambda_mult:0.1\n",
    "    }\n",
    ")\n",
    "\n",
    "results = retriever.invoke(query)\n",
    "\n",
    "for i, doc in enumerate(results):\n",
    "    # print(f\"{i}: {doc.metadata.get('LGRP_NM', '정보 없음')} > {doc.metadata.get('MGRP_NM', '정보 없음')} > {doc.metadata.get('SGRP_NM', '정보 없음')}\")\n",
    "    print(f\"{i}: {doc.page_content}\")"
   ]
  }
 ],
 "metadata": {
  "kernelspec": {
   "display_name": "embedding-ota6bejb-py3.11",
   "language": "python",
   "name": "python3"
  },
  "language_info": {
   "codemirror_mode": {
    "name": "ipython",
    "version": 3
   },
   "file_extension": ".py",
   "mimetype": "text/x-python",
   "name": "python",
   "nbconvert_exporter": "python",
   "pygments_lexer": "ipython3",
   "version": "3.11.9"
  }
 },
 "nbformat": 4,
 "nbformat_minor": 5
}
