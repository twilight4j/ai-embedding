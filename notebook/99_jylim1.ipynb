{
 "cells": [
  {
   "cell_type": "code",
   "execution_count": 4,
   "metadata": {},
   "outputs": [
    {
     "name": "stdout",
     "output_type": "stream",
     "text": [
      "--- 디버깅 결과 ---\n",
      "문서: 사과는 과일입니다.\n",
      "스코어: 0.39936894178390503\n",
      "\n",
      "문서: 바나나는 길고 노란색입니다.\n",
      "스코어: 0.4415978789329529\n",
      "\n",
      "-------------------\n"
     ]
    }
   ],
   "source": [
    "from langchain_community.vectorstores import FAISS\n",
    "from langchain_openai import OpenAIEmbeddings\n",
    "from langchain_community.vectorstores.faiss import FAISS, DistanceStrategy\n",
    "\n",
    "embeddings = OpenAIEmbeddings()\n",
    "\n",
    "texts = [\n",
    "    \"사과는 과일입니다.\",\n",
    "    \"바나나는 길고 노란색입니다.\",\n",
    "    \"포도는 와인 재료입니다.\"\n",
    "]\n",
    "\n",
    "# 코사인 거리 전략으로 벡터스토어 생성\n",
    "vectorstore = FAISS.from_texts(\n",
    "    texts,\n",
    "    embeddings,\n",
    "    distance_strategy=DistanceStrategy.COSINE\n",
    ")\n",
    "\n",
    "query = \"삼성\"\n",
    "results_with_score = vectorstore.similarity_search_with_score(query, k=2)\n",
    "\n",
    "print(\"--- 디버깅 결과 ---\")\n",
    "for doc, score in results_with_score:\n",
    "    print(f\"문서: {doc.page_content}\")\n",
    "    print(f\"스코어: {score}\\n\") # raw 스코어 그대로 출력\n",
    "print(\"-------------------\")"
   ]
  }
 ],
 "metadata": {
  "kernelspec": {
   "display_name": "embedding-ota6bejb-py3.11",
   "language": "python",
   "name": "python3"
  },
  "language_info": {
   "codemirror_mode": {
    "name": "ipython",
    "version": 3
   },
   "file_extension": ".py",
   "mimetype": "text/x-python",
   "name": "python",
   "nbconvert_exporter": "python",
   "pygments_lexer": "ipython3",
   "version": "3.11.9"
  }
 },
 "nbformat": 4,
 "nbformat_minor": 2
}
