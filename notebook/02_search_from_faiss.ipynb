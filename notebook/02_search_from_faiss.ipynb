{
 "cells": [
  {
   "cell_type": "markdown",
   "id": "8a85c368",
   "metadata": {},
   "source": [
    "API 키 로드\n",
    "`.env` 에 설정되어 있어야 합니다.\n",
    "```\n",
    "OPENAI_API_KEY=sk-proj-******** # Your Key\n",
    "```"
   ]
  },
  {
   "cell_type": "code",
   "execution_count": 1,
   "id": "a38267c1",
   "metadata": {},
   "outputs": [
    {
     "data": {
      "text/plain": [
       "True"
      ]
     },
     "execution_count": 1,
     "metadata": {},
     "output_type": "execute_result"
    }
   ],
   "source": [
    "from dotenv import load_dotenv\n",
    "\n",
    "# API 키 정보 로드\n",
    "load_dotenv()"
   ]
  },
  {
   "cell_type": "markdown",
   "id": "3c43fd13",
   "metadata": {},
   "source": [
    "LangSmith 추적을 설정합니다.(선택)"
   ]
  },
  {
   "cell_type": "code",
   "execution_count": 2,
   "id": "1f58aa50",
   "metadata": {},
   "outputs": [
    {
     "name": "stdout",
     "output_type": "stream",
     "text": [
      "LangSmith 추적을 시작합니다.\n",
      "[프로젝트명]\n",
      "AI-SEARCH\n"
     ]
    }
   ],
   "source": [
    "# LangSmith 추적을 설정합니다. https://smith.langchain.com\n",
    "# !pip install -qU langchain-teddynote\n",
    "from langchain_teddynote import logging\n",
    "\n",
    "# 프로젝트 이름을 입력합니다.\n",
    "logging.langsmith(\"AI-SEARCH\")"
   ]
  },
  {
   "cell_type": "code",
   "execution_count": 4,
   "id": "9e944c70",
   "metadata": {},
   "outputs": [],
   "source": [
    "# 라이브러리 선언\n",
    "import sqlite3\n",
    "from langchain_openai.embeddings import OpenAIEmbeddings\n",
    "from langchain_openai import ChatOpenAI\n",
    "from langchain_community.vectorstores import FAISS\n",
    "from langchain_core.output_parsers import StrOutputParser\n",
    "from langchain_core.runnables import RunnablePassthrough\n",
    "from langchain_core.prompts import PromptTemplate\n",
    "import re"
   ]
  },
  {
   "cell_type": "markdown",
   "id": "c6e7fd95",
   "metadata": {},
   "source": []
  },
  {
   "cell_type": "markdown",
   "id": "01f70ba3",
   "metadata": {},
   "source": [
    "보통 Vector Store 를 생성한 임베딩과 동일한 임베딩을 사용합니다."
   ]
  },
  {
   "cell_type": "code",
   "execution_count": 5,
   "id": "fbe449e2",
   "metadata": {},
   "outputs": [],
   "source": [
    "# 1. 임베딩(Embedding) 생성\n",
    "\n",
    "embeddings = OpenAIEmbeddings(model=\"text-embedding-3-small\")  # 1536 차원\n",
    "\n",
    "# dimensions 파라미터 설정 (원하는 차원 수로 축소)\n",
    "# embeddings = OpenAIEmbeddings(\n",
    "#     model=\"text-embedding-3-small\",\n",
    "#     dimensions=512  # 512 차원으로 축소 (최대 1536까지 가능)\n",
    "# )"
   ]
  },
  {
   "cell_type": "markdown",
   "id": "6952c93e",
   "metadata": {},
   "source": [
    "사용자의 의도를 분석하여 필터를 생성합니다."
   ]
  },
  {
   "cell_type": "code",
   "execution_count": 6,
   "id": "c84b72d5",
   "metadata": {},
   "outputs": [],
   "source": [
    "# 2. 의도 기반 필터링 함수 선언\n",
    "\n",
    "def intent_based_filtering(query):\n",
    "    \"\"\"사용자 의도 분석을 통한 필터링\"\"\"\n",
    "\n",
    "    filter_dict = {}\n",
    "\n",
    "    # 가격필터\n",
    "    filter_dict.update(intent_based_price_filtering(query))\n",
    "\n",
    "    # 브랜드필터\n",
    "\n",
    "    # 속성필터\n",
    "\n",
    "    return filter_dict\n",
    "\n",
    "def intent_based_price_filtering(query):\n",
    "    \"\"\"사용자 의도 분석을 통한 필터링\"\"\"\n",
    "\n",
    "    filter_dict = {}\n",
    "\n",
    "    # 가격 필터링을 위한 정규표현식 패턴\n",
    "    # 1) N만원 이상 | N만원 부터\n",
    "    price_pattern = r'(\\d+)만원\\s*(이상|부터)'\n",
    "    price_match = re.search(price_pattern, query)\n",
    "    \n",
    "    if price_match:\n",
    "        # SALE_PRC 키가 없으면 생성\n",
    "        if \"SALE_PRC\" not in filter_dict:\n",
    "            filter_dict[\"SALE_PRC\"] = {}\n",
    "        # 만원 단위를 원 단위로 변환 (예: 120만원 -> 1200000원)\n",
    "        filter_dict[\"SALE_PRC\"][\"$gte\"] = int(price_match.group(1)) * 10000\n",
    "    \n",
    "    # 2) N만원 이하 | N만원 까지\n",
    "    price_pattern_lte = r'(\\d+)만원\\s*(이하|까지)'\n",
    "    price_match_lte = re.search(price_pattern_lte, query)\n",
    "    \n",
    "    if price_match_lte:\n",
    "        if \"SALE_PRC\" not in filter_dict:\n",
    "            filter_dict[\"SALE_PRC\"] = {}\n",
    "        filter_dict[\"SALE_PRC\"][\"$lte\"] = int(price_match_lte.group(1)) * 10000\n",
    "\n",
    "    # 3) N만원 대\n",
    "    price_pattern_range = r'(\\d+)만원\\s*대'\n",
    "    price_match_range = re.search(price_pattern_range, query)\n",
    "    \n",
    "    if price_match_range:\n",
    "        if \"SALE_PRC\" not in filter_dict:\n",
    "            filter_dict[\"SALE_PRC\"] = {}\n",
    "        base_price = int(price_match_range.group(1)) * 10000\n",
    "        filter_dict[\"SALE_PRC\"][\"$gte\"] = base_price\n",
    "        filter_dict[\"SALE_PRC\"][\"$lt\"] = base_price * 2\n",
    "\n",
    "    return filter_dict\n"
   ]
  },
  {
   "cell_type": "markdown",
   "id": "c4710e3b",
   "metadata": {},
   "source": [
    "### Vectorestore 검색 1 - 검색기만을 통한 검색\n",
    "- 속도가 빠릅니다\n",
    "- 검색어와 필터를 통해서만 검색결과를 조정할 수 있습니다."
   ]
  },
  {
   "cell_type": "code",
   "execution_count": 8,
   "id": "56e1c4b0",
   "metadata": {},
   "outputs": [
    {
     "name": "stdout",
     "output_type": "stream",
     "text": [
      "필터: {'SALE_PRC': {'$lte': 1000000}}\n",
      "'100만원 이하 LG전자 TV'와 유사한 상품 검색 결과 (최대 5개):\n",
      "------------------------------------------------------------\n",
      "[결과 1] 유사도: 0.804122269153595\n",
      "LG전자의 UHD TV, 107cm LG전자 LED TV 43UT8300NNA (설치유형 선택가능). 카테고리: TV·영상가전 > TV > 중소형(~109cm). 가격 정보: 판매가 640,000원, 롯데카드 카드 사용 시 10% 할인되어 최대 576,000원. 가전제품입니다.\n",
      "- 상품상태: 정상상품\n",
      "- 브랜드명: LG전자\n",
      "- 상품명: 107cm LG전자 LED TV 43UT8300NNA (설치유형 선택가능)\n",
      "- 품목정보: TV>UHD TV\n",
      "- 카테고리: TV·영상가전>TV>중소형(~109cm)\n",
      "- 판매가: 640,000원\n",
      "- 할인가: 640,000원\n",
      "- 최대혜택가: 576,000원\n",
      "- 카드할인율: 10%\n",
      "- 할인카드: 롯데카드,롯데카드,현대카드,네이버페이,삼성카드,신한카드,KB국민카드\n",
      "- 주요 특징 및 기능:\n",
      "  -  : \n",
      "🔗 상품보러가기 : https://www.e-himart.co.kr/app/goods/goodsDetail?goodsNo=0040298827\n",
      "------------------------------------------------------------\n",
      "[결과 2] 유사도: 0.8181734085083008\n",
      "LG전자의 LED TV, 125cm 울트라 HD TV 50UT8300ENA 벽걸이형. 주요 특징: 크기: 50~59인치, 종류: LED, 해상도: UHD(4K), 기본 주사율: 60Hz, 스마트기능: 넷플릭스, 유튜브, 에어플레이2, 부가기능: USB재생, 부가기능: 블루투스5.0, 부가기능: 게임모드, 부가기능: HDMI eARC, e효율등급: 1등급, 출시년도: 2024년, 화면 타입: 평면형, 스피커 출력: 20W, 음향효과: 공간인식사운드, 음향효과: 인공지능사운드, 지원단자: HDMI, 지원단자: RF, 지원단자: LAN, 지원단자: Optical, 소비전력: 100~200W미만, VESA간격: 200*200mm, 색상: 블랙 계열, HDMI 포트수: 2포트, USB 포트수: 1포트. 카테고리: TV·영상가전 > TV > 중형(~139cm). 가격 정보: 판매가 933,500원, 롯데카드 카드 사용 시 5% 할인되어 최대 886,820원. 가전제품입니다. 해시태그: #50UT8300ENA_SM.\n",
      "- 상품상태: 정상상품\n",
      "- 브랜드명: LG전자\n",
      "- 상품명: 125cm 울트라 HD TV 50UT8300ENA 벽걸이형\n",
      "- 품목정보: TV>LED TV\n",
      "- 카테고리: TV·영상가전>TV>중형(~139cm)\n",
      "- 판매가: 933,500원\n",
      "- 할인가: 933,500원\n",
      "- 최대혜택가: 886,820원\n",
      "- 카드할인율: 5%\n",
      "- 할인카드: 롯데카드,현대카드,네이버페이,삼성카드,신한카드,KB국민카드\n",
      "- 주요 특징 및 기능:\n",
      "  - 크기 : 50~59인치\n",
      "🔗 상품보러가기 : https://www.e-himart.co.kr/app/goods/goodsDetail?goodsNo=0021469341\n",
      "------------------------------------------------------------\n"
     ]
    }
   ],
   "source": [
    "\n",
    "# 3. Vectorstore 검색 1 - 검색기만을 통한 검색\n",
    "\n",
    "# DB 경로 설정\n",
    "persist_directory = \"../.db/faiss\"\n",
    "\n",
    "vectorstore = FAISS.load_local(\n",
    "    persist_directory, \n",
    "    embeddings, \n",
    "    allow_dangerous_deserialization=True)\n",
    "\n",
    "# 검색할 쿼리 설정 (원하는 검색어로 변경 가능)\n",
    "query = \"100만원 이하 LG전자 TV\"  # 예시 쿼리: 원하는 검색어로 변경하세요\n",
    "\n",
    "# 필터링 옵션 입력 받기\n",
    "filter_dict = intent_based_filtering(query)\n",
    "# filter_dict = {\"GOODS_NO\": '0031055945'}\n",
    "# filter_dict = {\n",
    "#     \"SALE_PRC\": {\n",
    "#         \"$gte\": 1000000,  # 최소 가격\n",
    "#         \"$lte\": 2000000   # 최대 가격\n",
    "#     }\n",
    "# }\n",
    "\n",
    "print(f\"필터: {filter_dict}\")\n",
    "\n",
    "# 쿼리와 유사한 상품 5개 검색\n",
    "results_with_score = vectorstore.similarity_search_with_score(\n",
    "    query=query, \n",
    "    filter = filter_dict, # 메타데이터 필터 적용\n",
    "    k=5  # 반환할 결과 수\n",
    ")\n",
    "\n",
    "# 결과 출력\n",
    "print(f\"'{query}'와 유사한 상품 검색 결과 (최대 5개):\")\n",
    "print(\"-\" * 60)\n",
    "\n",
    "if results_with_score:\n",
    "    for i, (doc, score) in enumerate(results_with_score, 1):\n",
    "        print(f\"[결과 {i}] 유사도: {score}\") # 낮을수록 더 유사함\n",
    "        print(f\"{doc.page_content}\")\n",
    "        # print(f\"메타데이터: {doc.metadata}\")  # 모든 메타데이터 출력\n",
    "        try:\n",
    "            print(f\"- 상품상태: {doc.metadata.get('GOODS_STAT_SCT_NM', '정보 없음')}\")\n",
    "            print(f\"- 브랜드명: {doc.metadata.get('BRND_NM', '정보 없음')}\")\n",
    "            print(f\"- 상품명: {doc.metadata.get('GOODS_NM', '정보 없음')}\")\n",
    "            print(f\"- 품목정보: {doc.metadata.get('ARTC_INFO', '정보 없음')}\")\n",
    "            print(f\"- 카테고리: {doc.metadata.get('CATEGORY_NMS', '정보 없음')}\")\n",
    "            print(f\"- 판매가: {format(int(doc.metadata.get('SALE_PRC', 0)), ',')}원\")\n",
    "            print(f\"- 할인가: {format(int(doc.metadata.get('DSCNT_SALE_PRC', 0)), ',')}원\")\n",
    "            print(f\"- 최대혜택가: {format(int(doc.metadata.get('MAX_BENEFIT_PRICE', 0)), ',')}원\")\n",
    "            print(f\"- 카드할인율: {doc.metadata.get('CARD_DC_RATE', '0')}%\")\n",
    "            print(f\"- 할인카드: {doc.metadata.get('CARD_DC_NAME_LIST', '정보 없음')}\")\n",
    "            print(f\"- 주요 특징 및 기능:\")\n",
    "            feature_values = doc.metadata['OPT_VAL_DESC'].split(',')\n",
    "            feature_titles = doc.metadata['OPT_DISP_NM'].split(',')\n",
    "            for i, (title, value) in enumerate(zip(feature_titles, feature_values)):\n",
    "                print(f\"  - {title} : {value}\")\n",
    "                if i < 3: break\n",
    "            print(f\"🔗 상품보러가기 : https://www.e-himart.co.kr/app/goods/goodsDetail?goodsNo={doc.metadata.get('GOODS_NO', '정보 없음')}\")\n",
    "        except Exception as e:\n",
    "            print(f\"메타데이터 처리 중 오류 발생: {str(e)}\")\n",
    "        print(\"-\" * 60)\n",
    "else:\n",
    "    print(\"검색 결과가 없습니다.\")\n",
    "    print(\"다른 검색어로 다시 시도해보시거나, 검색어를 더 구체적으로 입력해주세요.\")\n"
   ]
  },
  {
   "cell_type": "markdown",
   "id": "c53949c4",
   "metadata": {},
   "source": [
    "### Vectorestore 검색 2 - LLM 과 검색기를 체인으로 생성하여 검색 \n",
    "- 속도가 느립니다.\n",
    "- 검색어와 필터를 뿐 만아니라 프롬프트로도 검색결과를 조정할 수 있습니다.\n",
    "- 친절하고 감성적인 답변이 가능합니다."
   ]
  },
  {
   "cell_type": "code",
   "execution_count": 7,
   "id": "7487e36c",
   "metadata": {},
   "outputs": [],
   "source": [
    "# 1. 프롬프트를 생성합니다.\n",
    "prompt = PromptTemplate.from_template(\n",
    "    \"\"\"You are a product search assistant for an electronics e-commerce platform. \n",
    "Use the following pieces of retrieved context to answer the question. \n",
    "Search up to 10 products.\n",
    "Kindly explain why you've been searching for the product.\n",
    "And be sure to include the following meta information:\n",
    "상품명\n",
    "- 상품상태\n",
    "- 브랜드명\n",
    "- 판매가\n",
    "- 할인가\n",
    "- 최대혜택가\n",
    "- 할인카드\n",
    "- 주요 특징 및 기능\n",
    "  - \n",
    "  -\n",
    "  -\n",
    "🔗 상품보러가기 : https://www.e-himart.co.kr/app/goods/goodsDetail?goodsNo=상품번호\n",
    "Answer in Korean.\n",
    "\n",
    "#Context: \n",
    "{context}\n",
    "\n",
    "#Question:\n",
    "{question}\n",
    "\n",
    "#Answer:\"\"\"\n",
    ")\n"
   ]
  },
  {
   "cell_type": "code",
   "execution_count": 8,
   "id": "32b719b8",
   "metadata": {},
   "outputs": [],
   "source": [
    "# 2. LLM 과 체인생성\n",
    "\n",
    "# 모델(LLM) 을 생성합니다.\n",
    "llm = ChatOpenAI(model_name=\"gpt-4o\", temperature=0)\n",
    "\n",
    "# 의도 기반 필터링 함수 선언\n",
    "def get_retriever_with_filter(query):\n",
    "    filter_dict = intent_based_filtering(query)\n",
    "\n",
    "    print(f\"필터정보:{filter_dict}\")\n",
    "\n",
    "    return vectorstore.as_retriever(\n",
    "        search_kwargs={\n",
    "            \"k\": 5,\n",
    "            \"filter\": filter_dict\n",
    "        }\n",
    "    )\n",
    "\n",
    "# 체인(Chain) 생성\n",
    "chain = (\n",
    "    {\"context\": lambda x: get_retriever_with_filter(x).get_relevant_documents(x), \n",
    "     \"question\": RunnablePassthrough()}\n",
    "    | prompt\n",
    "    | llm\n",
    "    | StrOutputParser()\n",
    ")"
   ]
  },
  {
   "cell_type": "code",
   "execution_count": 9,
   "id": "21c46abd",
   "metadata": {},
   "outputs": [
    {
     "name": "stdout",
     "output_type": "stream",
     "text": [
      "필터정보:{'SALE_PRC': {'$lte': 2000000}}\n"
     ]
    },
    {
     "name": "stderr",
     "output_type": "stream",
     "text": [
      "C:\\Users\\twili\\AppData\\Local\\Temp\\ipykernel_16000\\2393032965.py:21: LangChainDeprecationWarning: The method `BaseRetriever.get_relevant_documents` was deprecated in langchain-core 0.1.46 and will be removed in 1.0. Use :meth:`~invoke` instead.\n",
      "  {\"context\": lambda x: get_retriever_with_filter(x).get_relevant_documents(x),\n"
     ]
    },
    {
     "name": "stdout",
     "output_type": "stream",
     "text": [
      "다음은 200만원 이하의 삼성 스마트 세탁기 목록입니다. 이 제품들은 다양한 세탁 용량과 스마트 기능을 제공하여 사용자의 편리함을 높입니다.\n",
      "\n",
      "1. **상품명**: 그랑데 일반세탁기 WA18CG6K46BV 18kg\n",
      "   - **상품상태**: 정상상품\n",
      "   - **브랜드명**: 삼성전자\n",
      "   - **판매가**: 741,800원\n",
      "   - **할인가**: 667,620원\n",
      "   - **최대혜택가**: 634,240원\n",
      "   - **할인카드**: 롯데카드\n",
      "   - **주요 특징 및 기능**:\n",
      "     - 세탁 용량: 17~21kg\n",
      "     - 스마트기능: 코스다운로드, 스마트컨트롤, 스마트체크\n",
      "     - 모터 종류: 인버터 DD모터\n",
      "   - 🔗 [상품보러가기](https://www.e-himart.co.kr/app/goods/goodsDetail?goodsNo=0026697878)\n",
      "\n",
      "2. **상품명**: 그랑데 일반세탁기 WA18CG6741BW 18kg\n",
      "   - **상품상태**: 정상상품\n",
      "   - **브랜드명**: 삼성전자\n",
      "   - **판매가**: 1,218,500원\n",
      "   - **할인가**: 1,096,650원\n",
      "   - **최대혜택가**: 1,041,820원\n",
      "   - **할인카드**: 롯데카드\n",
      "   - **주요 특징 및 기능**:\n",
      "     - 세탁 용량: 18kg\n",
      "     - 스마트기능: 스마트체크, 스마트타이머\n",
      "     - 모터 종류: 인버터 DD모터\n",
      "   - 🔗 [상품보러가기](https://www.e-himart.co.kr/app/goods/goodsDetail?goodsNo=0026697880)\n",
      "\n",
      "3. **상품명**: 삼성 그랑데 통버블 세탁기 18kg WA18CG6K46BV\n",
      "   - **상품상태**: 정상상품\n",
      "   - **브랜드명**: 삼성전자\n",
      "   - **판매가**: 822,000원\n",
      "   - **할인가**: 748,020원\n",
      "   - **최대혜택가**: 710,620원\n",
      "   - **할인카드**: 롯데카드\n",
      "   - **주요 특징 및 기능**:\n",
      "     - 세탁 용량: 18kg\n",
      "     - 스마트기능: 코스다운로드, 휴대폰진단\n",
      "     - 모터 종류: 듀얼 DD모터\n",
      "   - 🔗 [상품보러가기](https://www.e-himart.co.kr/app/goods/goodsDetail?goodsNo=0034584235)\n",
      "\n",
      "4. **상품명**: 삼성 드럼 세탁기 건조기 세트 WW90T3000KW+DV90T5440KW\n",
      "   - **상품상태**: 정상상품\n",
      "   - **브랜드명**: 삼성전자\n",
      "   - **판매가**: 1,403,000원\n",
      "   - **할인가**: 1,248,670원\n",
      "   - **최대혜택가**: 1,186,240원\n",
      "   - **할인카드**: 롯데카드\n",
      "   - **주요 특징 및 기능**:\n",
      "     - 세탁 용량: 9kg\n",
      "     - 스마트기능: 통세척\n",
      "     - e효율등급: 1등급\n",
      "   - 🔗 [상품보러가기](https://www.e-himart.co.kr/app/goods/goodsDetail?goodsNo=0020014992)\n",
      "\n",
      "5. **상품명**: [2주이상소요] 그랑데 드럼 세탁기 24kg WF24T8500KV\n",
      "   - **상품상태**: 정상상품\n",
      "   - **브랜드명**: 삼성전자\n",
      "   - **판매가**: 1,200,000원\n",
      "   - **할인가**: 875,000원\n",
      "   - **최대혜택가**: 787,500원\n",
      "   - **할인카드**: 롯데카드\n",
      "   - **주요 특징 및 기능**:\n",
      "     - 세탁 용량: 24kg\n",
      "     - 스마트기능: 세탁무게감지, 세제자동투입\n",
      "     - e효율등급: 1등급\n",
      "   - 🔗 [상품보러가기](https://www.e-himart.co.kr/app/goods/goodsDetail?goodsNo=0012009217)\n",
      "\n",
      "이 제품들은 모두 삼성전자의 최신 기술이 적용된 스마트 세탁기로, 다양한 세탁 코스와 스마트 기능을 통해 효율적인 세탁을 제공합니다.\n"
     ]
    }
   ],
   "source": [
    "# 3. 체인 실행\n",
    "query = \"200만원 이하 삼성 스마트 세탁기\"  # 예시 쿼리: 원하는 검색어로 변경하세요\n",
    "\n",
    "response = chain.invoke(query)\n",
    "print(response)"
   ]
  }
 ],
 "metadata": {
  "kernelspec": {
   "display_name": "embedding-ota6bejb-py3.11",
   "language": "python",
   "name": "python3"
  },
  "language_info": {
   "codemirror_mode": {
    "name": "ipython",
    "version": 3
   },
   "file_extension": ".py",
   "mimetype": "text/x-python",
   "name": "python",
   "nbconvert_exporter": "python",
   "pygments_lexer": "ipython3",
   "version": "3.11.9"
  }
 },
 "nbformat": 4,
 "nbformat_minor": 5
}
