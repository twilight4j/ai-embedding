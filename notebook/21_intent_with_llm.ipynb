{
 "cells": [
  {
   "cell_type": "code",
   "execution_count": 1,
   "metadata": {},
   "outputs": [
    {
     "data": {
      "text/plain": [
       "True"
      ]
     },
     "execution_count": 1,
     "metadata": {},
     "output_type": "execute_result"
    }
   ],
   "source": [
    "from dotenv import load_dotenv\n",
    "\n",
    "# API 키 정보 로드\n",
    "load_dotenv()"
   ]
  },
  {
   "cell_type": "code",
   "execution_count": 2,
   "metadata": {},
   "outputs": [],
   "source": [
    "# 라이브러리 선언\n",
    "from langchain_openai import ChatOpenAI\n",
    "from langchain_core.output_parsers import StrOutputParser\n",
    "from langchain_core.runnables import RunnablePassthrough\n",
    "from langchain_core.prompts import PromptTemplate, ChatPromptTemplate\n",
    "from langchain_core.output_parsers import JsonOutputParser\n",
    "from pydantic import BaseModel, Field"
   ]
  },
  {
   "cell_type": "code",
   "execution_count": 3,
   "metadata": {},
   "outputs": [],
   "source": [
    "# OpenAI 객체를 생성합니다.\n",
    "model = ChatOpenAI(temperature=0, model_name=\"gpt-4.1-mini\")"
   ]
  },
  {
   "cell_type": "code",
   "execution_count": 4,
   "metadata": {},
   "outputs": [],
   "source": [
    "# 원하는 데이터 구조를 정의합니다.\n",
    "class Filter(BaseModel):\n",
    "    NATURAL_LANGUAGE: str = Field(description=\"사용자 검색어를 자연스러운 문장으로 변환.\")\n",
    "    SALE_PRC_GTE: int = Field(description=\"가격범위 최소값. 예를 들어 100만원 이상 120만원 이하이면, 1000000\")\n",
    "    SALE_PRC_LTE: int = Field(description=\"가격범위 최대값. 예를 들어 100만원 이상 120만원 이하이면, 1200000\")\n",
    "    BRND_NM: str = Field(description=\"브랜드명\")\n",
    "    ARTC_NM: str = Field(description=\"품목\")\n",
    "    CATEGORY_NM: str = Field(description=\"\"\"카테고리명. 다음 카테고리 예시 중 반드시 1개. \n",
    "안심케어\n",
    "전문가 화상상담\n",
    "1인 가구를 위한 나노스퀘어 \n",
    "TV·영상가전\n",
    "가구·인테리어\n",
    "태블릿·이북리더기\n",
    "건강가전\n",
    "게임기·타이틀\n",
    "냉장고·주방가전\n",
    "레저·여행·헬스케어\n",
    "렌탈·구독\n",
    "휴대폰·스마트워치\n",
    "생활·주방용품\n",
    "세탁기·건조기·의류관리기\n",
    "에어컨·계절가전\n",
    "청소기·생활가전\n",
    "카메라\n",
    "컴퓨터·노트북\n",
    "스마트홈\n",
    "음향가전\n",
    "뷰티·이미용가전\n",
    "문구·악기·공구\n",
    "가전 수리비 보장 가전보험\n",
    "방문컨설팅\"\"\")\n",
    "    FEATURES: str = Field(description=\"주요기능\")\n",
    "\n",
    "# {'SALE_PRC': {'$gte': 1000000, '$lte': 1200000}}"
   ]
  },
  {
   "cell_type": "code",
   "execution_count": 5,
   "metadata": {},
   "outputs": [
    {
     "name": "stdout",
     "output_type": "stream",
     "text": [
      "The output should be formatted as a JSON instance that conforms to the JSON schema below.\n",
      "\n",
      "As an example, for the schema {\"properties\": {\"foo\": {\"title\": \"Foo\", \"description\": \"a list of strings\", \"type\": \"array\", \"items\": {\"type\": \"string\"}}}, \"required\": [\"foo\"]}\n",
      "the object {\"foo\": [\"bar\", \"baz\"]} is a well-formatted instance of the schema. The object {\"properties\": {\"foo\": [\"bar\", \"baz\"]}} is not well-formatted.\n",
      "\n",
      "Here is the output schema:\n",
      "```\n",
      "{\"properties\": {\"NATURAL_LANGUAGE\": {\"description\": \"사용자 검색어를 자연스러운 문장으로 변환.\", \"title\": \"Natural Language\", \"type\": \"string\"}, \"SALE_PRC_GTE\": {\"description\": \"가격범위 최소값. 예를 들어 100만원 이상 120만원 이하이면, 1000000\", \"title\": \"Sale Prc Gte\", \"type\": \"integer\"}, \"SALE_PRC_LTE\": {\"description\": \"가격범위 최대값. 예를 들어 100만원 이상 120만원 이하이면, 1200000\", \"title\": \"Sale Prc Lte\", \"type\": \"integer\"}, \"BRND_NM\": {\"description\": \"브랜드명\", \"title\": \"Brnd Nm\", \"type\": \"string\"}, \"ARTC_NM\": {\"description\": \"품목\", \"title\": \"Artc Nm\", \"type\": \"string\"}, \"CATEGORY_NM\": {\"description\": \"카테고리명. 다음 카테고리 예시 중 반드시 1개. \\n안심케어\\n전문가 화상상담\\n1인 가구를 위한 나노스퀘어 \\nTV·영상가전\\n가구·인테리어\\n태블릿·이북리더기\\n건강가전\\n게임기·타이틀\\n냉장고·주방가전\\n레저·여행·헬스케어\\n렌탈·구독\\n휴대폰·스마트워치\\n생활·주방용품\\n세탁기·건조기·의류관리기\\n에어컨·계절가전\\n청소기·생활가전\\n카메라\\n컴퓨터·노트북\\n스마트홈\\n음향가전\\n뷰티·이미용가전\\n문구·악기·공구\\n가전 수리비 보장 가전보험\\n방문컨설팅\", \"title\": \"Category Nm\", \"type\": \"string\"}, \"FEATURES\": {\"description\": \"주요기능\", \"title\": \"Features\", \"type\": \"string\"}}, \"required\": [\"NATURAL_LANGUAGE\", \"SALE_PRC_GTE\", \"SALE_PRC_LTE\", \"BRND_NM\", \"ARTC_NM\", \"CATEGORY_NM\", \"FEATURES\"]}\n",
      "```\n"
     ]
    }
   ],
   "source": [
    "# 파서를 설정하고 프롬프트 템플릿에 지시사항을 주입합니다.\n",
    "parser = JsonOutputParser(pydantic_object=Filter)\n",
    "print(parser.get_format_instructions())"
   ]
  },
  {
   "cell_type": "code",
   "execution_count": 6,
   "metadata": {},
   "outputs": [],
   "source": [
    "\n",
    "# 프롬프트를 생성합니다.\n",
    "prompt = ChatPromptTemplate.from_messages(\n",
    "    [\n",
    "        (\"system\", \"당신은 가전전문 e커머스 검색 AI 어시스턴트 입니다. 사용자의 검색어를 분석하여, 그 의도에 맞는 최적의 검색 필터 조건을 완성해야 합니다.\"),\n",
    "        (\"user\", \"#Format: {format_instructions}\\n\\n#Question: {query}\"),\n",
    "    ]\n",
    ")\n",
    "\n",
    "prompt = prompt.partial(format_instructions=parser.get_format_instructions())\n",
    "\n",
    "# 체인을 구성합니다.\n",
    "chain = prompt | model | parser"
   ]
  },
  {
   "cell_type": "code",
   "execution_count": 7,
   "metadata": {},
   "outputs": [
    {
     "name": "stdout",
     "output_type": "stream",
     "text": [
      "아기용 가습기: {'NATURAL_LANGUAGE': '아기용 가습기를 찾습니다', 'SALE_PRC_GTE': 0, 'SALE_PRC_LTE': 1000000, 'BRND_NM': '', 'ARTC_NM': '가습기', 'CATEGORY_NM': '생활·주방용품', 'FEATURES': '아기용'}\n"
     ]
    }
   ],
   "source": [
    "# 체인을 호출하여 쿼리 실행\n",
    "query = \"아기용 가습기\"\n",
    "answer = chain.invoke({\"query\": query})\n",
    "print(f\"{query}: {answer}\")\n",
    "\n",
    "# query = \"5만원 이상 블루투스 마우스\"\n",
    "# answer = chain.invoke({\"query\": query})\n",
    "# print(f\"{query}: {answer}\")\n",
    "\n",
    "# query = \"4인 가족 냉장고 추천\"\n",
    "# answer = chain.invoke({\"query\": query})\n",
    "# print(f\"{query}: {answer}\")\n",
    "\n",
    "# query = \"원룸용 세탁기\"\n",
    "# answer = chain.invoke({\"query\": query})\n",
    "# print(f\"{query}: {answer}\")\n",
    "\n",
    "# query = \"게이밍용 고성능 모니터\"\n",
    "# answer = chain.invoke({\"query\": query})\n",
    "# print(f\"{query}: {answer}\")\n",
    "\n",
    "# query = \"신혼부부용 가전세트\"\n",
    "# answer = chain.invoke({\"query\": query})\n",
    "# print(f\"{query}: {answer}\")\n",
    "\n",
    "# query = \"국산 로봇청소기 추천\"\n",
    "# answer = chain.invoke({\"query\": query})\n",
    "# print(f\"{query}: {answer}\")\n",
    "\n",
    "# query = \"4K HDR 지원 55인치 TV\"\n",
    "# answer = chain.invoke({\"query\": query})\n",
    "# print(f\"{query}: {answer}\")\n",
    "\n",
    "# query = \"20만원대 스팀 다리미\"\n",
    "# answer = chain.invoke({\"query\": query})\n",
    "# print(f\"{query}: {answer}\")\n",
    "\n",
    "# query = \"인덕션 3구 전기레인지\"\n",
    "# answer = chain.invoke({\"query\": query})\n",
    "# print(f\"{query}: {answer}\")\n",
    "\n",
    "# query = \"조용하고 전기요금 적게 나오는 에어컨\"\n",
    "# answer = chain.invoke({\"query\": query})\n",
    "# print(f\"{query}: {answer}\")\n",
    "\n",
    "# query = \"자동급수 가능한 로봇청소기\"\n",
    "# answer = chain.invoke({\"query\": query})\n",
    "# print(f\"{query}: {answer}\")\n",
    "\n",
    "\n"
   ]
  }
 ],
 "metadata": {
  "kernelspec": {
   "display_name": "embedding-ota6bejb-py3.11",
   "language": "python",
   "name": "python3"
  },
  "language_info": {
   "codemirror_mode": {
    "name": "ipython",
    "version": 3
   },
   "file_extension": ".py",
   "mimetype": "text/x-python",
   "name": "python",
   "nbconvert_exporter": "python",
   "pygments_lexer": "ipython3",
   "version": "3.11.9"
  }
 },
 "nbformat": 4,
 "nbformat_minor": 2
}
