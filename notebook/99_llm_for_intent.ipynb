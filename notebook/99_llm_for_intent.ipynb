{
 "cells": [
  {
   "cell_type": "code",
   "execution_count": 1,
   "metadata": {},
   "outputs": [
    {
     "data": {
      "text/plain": [
       "True"
      ]
     },
     "execution_count": 1,
     "metadata": {},
     "output_type": "execute_result"
    }
   ],
   "source": [
    "from dotenv import load_dotenv\n",
    "\n",
    "# API 키 정보 로드\n",
    "load_dotenv()"
   ]
  },
  {
   "cell_type": "code",
   "execution_count": 3,
   "metadata": {},
   "outputs": [],
   "source": [
    "# 라이브러리 선언\n",
    "from langchain_openai import ChatOpenAI\n",
    "from langchain_core.output_parsers import StrOutputParser\n",
    "from langchain_core.runnables import RunnablePassthrough\n",
    "from langchain_core.prompts import PromptTemplate"
   ]
  },
  {
   "cell_type": "code",
   "execution_count": 25,
   "metadata": {},
   "outputs": [],
   "source": [
    "# 1. 프롬프트를 생성합니다.\n",
    "prompt = PromptTemplate.from_template(\n",
    "    \"\"\"You are an assistant that interprets the user's intent and converts it into quantitative data.\n",
    "The user has entered a home appliance-focused e-commerce platform to search for a desired product.\n",
    "Receive the user's query and complete the search filter criteria.\n",
    "\n",
    "Answer in Korean.\n",
    "\n",
    "For Example:\n",
    "\n",
    "- 가격 : 100만원 이상 200만원 이하\n",
    "- 브랜드 : 삼성, LG, 현대\n",
    "- 주요기능/특징 : 세탁기, 건조기, 세탁/건조\n",
    "\n",
    "#Question:\n",
    "{question}\n",
    "\n",
    "#Answer:\"\"\"\n",
    ")\n"
   ]
  },
  {
   "cell_type": "code",
   "execution_count": 26,
   "metadata": {},
   "outputs": [],
   "source": [
    "# 2. LLM 과 체인생성\n",
    "\n",
    "# 모델(LLM) 을 생성합니다.\n",
    "llm = ChatOpenAI(model_name=\"gpt-4o\", temperature=0)\n",
    "# 체인(Chain) 생성\n",
    "chain = (\n",
    "    {\"question\": RunnablePassthrough()}\n",
    "    | prompt\n",
    "    | llm\n",
    "    | StrOutputParser()\n",
    ")"
   ]
  },
  {
   "cell_type": "code",
   "execution_count": 29,
   "metadata": {},
   "outputs": [
    {
     "name": "stdout",
     "output_type": "stream",
     "text": [
      "- 가격 : 100만원 이하\n",
      "- 브랜드 : 삼성\n",
      "- 주요기능/특징 : 4도어, 냉장고\n",
      "- 추천 이유 : 저렴한 가격대의 4도어 삼성 냉장고를 찾고자 함.\n"
     ]
    }
   ],
   "source": [
    "# 3. 체인 실행\n",
    "query = \"저렴한 4도어 삼성 냉장고\"  # 예시 쿼리: 원하는 검색어로 변경하세요\n",
    "\n",
    "response = chain.invoke(query)\n",
    "print(response)"
   ]
  }
 ],
 "metadata": {
  "kernelspec": {
   "display_name": "embedding-ota6bejb-py3.11",
   "language": "python",
   "name": "python3"
  },
  "language_info": {
   "codemirror_mode": {
    "name": "ipython",
    "version": 3
   },
   "file_extension": ".py",
   "mimetype": "text/x-python",
   "name": "python",
   "nbconvert_exporter": "python",
   "pygments_lexer": "ipython3",
   "version": "3.11.9"
  }
 },
 "nbformat": 4,
 "nbformat_minor": 2
}
