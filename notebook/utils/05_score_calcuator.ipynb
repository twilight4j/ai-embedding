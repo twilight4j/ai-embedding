{
 "cells": [
  {
   "cell_type": "code",
   "execution_count": 1,
   "metadata": {},
   "outputs": [],
   "source": [
    "def calculate_rank_score(metadata: dict, top_k:int) -> float:\n",
    "    \"\"\"\n",
    "    랭킹 점수 계산 함수. 최대 3점\n",
    "    top_k 가 100 일 때, 1위는 3.0점 100위는 0.03점\n",
    "    \"\"\"\n",
    "    top_score = 3\n",
    "    return (top_k - metadata.get('similarity_rank') + 1) * top_score / top_k"
   ]
  },
  {
   "cell_type": "code",
   "execution_count": 2,
   "metadata": {},
   "outputs": [],
   "source": [
    "def calculate_brand_score(metadata: dict, brand: str) -> float:\n",
    "    \"\"\"브랜드 매칭 점수 계산 함수. 최대 5점\"\"\"\n",
    "    score = 0.0\n",
    "    if not brand:\n",
    "        return score\n",
    "\n",
    "    brands = []\n",
    "    brands.append(brand)\n",
    "\n",
    "    for b in brands:\n",
    "        if b in metadata.get('BRND_NM', ''):\n",
    "            score += 5.0  # 증가: 브랜드 정확 매칭 더 중요하게\n",
    "        elif b in metadata.get('GOODS_NM', ''):\n",
    "            score += 3.5  # 증가: 상품명 매칭도 중요도 상승\n",
    "    return score"
   ]
  },
  {
   "cell_type": "code",
   "execution_count": 3,
   "metadata": {},
   "outputs": [],
   "source": [
    "def calculate_artc_score(metadata: dict, artc:str) -> float:\n",
    "    \"\"\"품목 매칭 점수 계산 함수. 최대 6\"\"\"\n",
    "    score = 0.0\n",
    "    if not artc:\n",
    "        return score\n",
    "    \n",
    "    if artc in metadata.get('ARTC_NM', ''):\n",
    "        score += 3.0  # 증가: 품목정보 매칭 더 중요하게\n",
    "\n",
    "    if artc in metadata.get('SGRP_NM', ''):\n",
    "        score += 3.0  # 증가: 소카테고리 매칭 중요도 상승\n",
    "    elif artc in metadata.get('MGRP_NM', ''):\n",
    "        score += 2.5  # 증가: 중카테고리 매칭 중요도 상승\n",
    "    elif artc in metadata.get('LGRP_NM', ''):\n",
    "        score += 2.0  # 증가: 대카테고리 매칭 중요도 상승\n",
    "\n",
    "    return score"
   ]
  },
  {
   "cell_type": "code",
   "execution_count": 6,
   "metadata": {},
   "outputs": [],
   "source": [
    "def calculate_hashtag_score(metadata: dict, artc:str, features:str) -> float:\n",
    "    \"\"\"해시태그 매칭 점수 계산 함수. 해시태그 1개당 4점\"\"\"\n",
    "    score = 0.0\n",
    "    feature_list = []\n",
    "\n",
    "    if not artc and not features:\n",
    "        return score\n",
    "    \n",
    "    if features:\n",
    "        feature_list = features.replace(' ','').split(',')\n",
    "\n",
    "    # 품목이 관련키워드에 있을 경우\n",
    "    if artc and artc in metadata.get('SCH_KWD_NM', ''):\n",
    "        score += 4.0\n",
    "\n",
    "    # 특징이 관련키워드에 있을 경우\n",
    "    for feature in feature_list:\n",
    "        if feature in metadata.get('SCH_KWD_NM', ''):\n",
    "            score += 4.0\n",
    "\n",
    "    return score"
   ]
  },
  {
   "cell_type": "code",
   "execution_count": 25,
   "metadata": {},
   "outputs": [],
   "source": [
    "def calculate_features_score(metadata: dict, features:str) -> float:\n",
    "    \"\"\"특징 매칭 점수 계산 함수. 특징 1개 당 3.5점\"\"\"\n",
    "    score = 0.0\n",
    "    feature_list = []\n",
    "\n",
    "    if features:\n",
    "        feature_list = features.replace(' ', '').split(',')\n",
    "\n",
    "    # 특징이 상품명이나 주요 특징 및 기능에 있을 경우\n",
    "    for feature in feature_list:\n",
    "        if feature in metadata.get('GOODS_NM', ''):\n",
    "            print(f\"Hit GOODS_NM: {feature}\")\n",
    "            score += 3.5\n",
    "        if feature in metadata.get('OPT_DISP_NM', ''):\n",
    "            print(f\"Hit OPT_DISP_NM: {feature}\")\n",
    "            score += 3.5\n",
    "        if feature in metadata.get('OPT_VAL_DESC', ''):\n",
    "            print(f\"Hit OPT_VAL_DESC: {feature}\")\n",
    "            score += 3.5\n",
    "\n",
    "    return score"
   ]
  },
  {
   "cell_type": "code",
   "execution_count": 26,
   "metadata": {},
   "outputs": [
    {
     "name": "stdout",
     "output_type": "stream",
     "text": [
      "해시태그: 8.0\n",
      "Hit from OPT_DISP_NM: 방수\n",
      "Hit from OPT_VAL_DESC: 방수\n",
      "Hit from OPT_VAL_DESC: 노이즈캔슬링\n",
      "특징: 10.5\n"
     ]
    }
   ],
   "source": [
    "metadata = {\n",
    "    'SCH_KWD_NM': '#이어폰#노이즈캔슬링',\n",
    "    'OPT_DISP_NM': '형태,유닛 형태,사운드기능,사운드기능,무선충전 여부,페어링,블루투스 버전,사용 시간,기능,유무선,방수 등급',\n",
    "    'OPT_VAL_DESC':'독립형,커널형,액티브노이즈캔슬링,주변소음듣기,유선충전,멀티페어링,블루투스5.3,8.5시간,방수,무선,IPX4'\n",
    "    }\n",
    "artc = '이어폰'\n",
    "features = '방수, 노이즈캔슬링'\n",
    "\n",
    "print(f\"해시태그: {calculate_hashtag_score(metadata, artc, features)}\")\n",
    "print(f\"특징: {calculate_features_score(metadata, features)}\")\n",
    "\n"
   ]
  }
 ],
 "metadata": {
  "kernelspec": {
   "display_name": "embedding-ota6bejb-py3.11",
   "language": "python",
   "name": "python3"
  },
  "language_info": {
   "codemirror_mode": {
    "name": "ipython",
    "version": 3
   },
   "file_extension": ".py",
   "mimetype": "text/x-python",
   "name": "python",
   "nbconvert_exporter": "python",
   "pygments_lexer": "ipython3",
   "version": "3.11.9"
  }
 },
 "nbformat": 4,
 "nbformat_minor": 2
}
