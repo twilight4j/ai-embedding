{
 "cells": [
  {
   "cell_type": "code",
   "execution_count": null,
   "metadata": {},
   "outputs": [],
   "source": [
    "def pretty_print_with_score(results_with_score):\n",
    "    if results_with_score:\n",
    "        for i, (doc, score) in enumerate(results_with_score, 1):\n",
    "            print(f\"[결과 {i}] 유사도: {score}\") # 낮을수록 더 유사함\n",
    "            print(f\"{doc.page_content}\")\n",
    "            # print(f\"메타데이터: {doc.metadata}\")  # 모든 메타데이터 출력\n",
    "            try:\n",
    "                print(f\"- 상품상태: {doc.metadata.get('GOODS_STAT_SCT_NM', '정보 없음')}\")\n",
    "                print(f\"- 브랜드명: {doc.metadata.get('BRND_NM', '정보 없음')}\")\n",
    "                print(f\"- 상품명: {doc.metadata.get('GOODS_NM', '정보 없음')}\")\n",
    "                print(f\"- 품목정보: {doc.metadata.get('ARTC_INFO', '정보 없음')}\")\n",
    "                print(f\"- 카테고리: {doc.metadata.get('CATEGORY_NMS', '정보 없음')}\")\n",
    "                # print(f\"- 판매가: {format(int(doc.metadata.get('SALE_PRC', 0)), ',')}원\")\n",
    "                # print(f\"- 할인가: {format(int(doc.metadata.get('DSCNT_SALE_PRC', 0)), ',')}원\")\n",
    "                print(f\"- 최대혜택가: {format(int(doc.metadata.get('MAX_BENEFIT_PRICE', 0)), ',')}원\")\n",
    "                print(f\"- 카드할인율: {doc.metadata.get('CARD_DC_RATE', '0')}%\")\n",
    "                print(f\"- 할인카드: {doc.metadata.get('CARD_DC_NAME_LIST', '정보 없음')}\")\n",
    "                print(f\"- 주요 특징 및 기능:\")\n",
    "                feature_values = doc.metadata['OPT_VAL_DESC'].split(',')\n",
    "                feature_titles = doc.metadata['OPT_DISP_NM'].split(',')\n",
    "                for i, (title, value) in enumerate(zip(feature_titles, feature_values)):\n",
    "                    print(f\"  - {title} : {value}\")\n",
    "                    if i < 3: break\n",
    "                print(f\"🔗 상품보러가기 : https://www.e-himart.co.kr/app/goods/goodsDetail?goodsNo={doc.metadata.get('GOODS_NO', '정보 없음')}\")\n",
    "            except Exception as e:\n",
    "                print(f\"메타데이터 처리 중 오류 발생: {str(e)}\")\n",
    "            print(\"-\" * 60)\n",
    "    else:\n",
    "        print(\"검색 결과가 없습니다.\")\n",
    "        print(\"다른 검색어로 다시 시도해보시거나, 검색어를 더 구체적으로 입력해주세요.\")"
   ]
  }
 ],
 "metadata": {
  "kernelspec": {
   "display_name": "embedding-ota6bejb-py3.11",
   "language": "python",
   "name": "python3"
  },
  "language_info": {
   "name": "python",
   "version": "3.11.9"
  }
 },
 "nbformat": 4,
 "nbformat_minor": 2
}
