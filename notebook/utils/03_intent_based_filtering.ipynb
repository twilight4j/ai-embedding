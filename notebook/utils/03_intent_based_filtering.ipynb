{
 "cells": [
  {
   "cell_type": "code",
   "execution_count": 1,
   "metadata": {},
   "outputs": [],
   "source": [
    "import re\n",
    "# 의도 기반 필터링 함수 선언\n",
    "def intent_based_filtering(query):\n",
    "    \"\"\"사용자 의도 분석을 통한 필터링\"\"\"\n",
    "\n",
    "    filter_dict = {}\n",
    "\n",
    "    # 가격필터\n",
    "    filter_dict.update(intent_based_price_filtering(query))\n",
    "\n",
    "    # 브랜드필터\n",
    "\n",
    "    # 속성필터\n",
    "\n",
    "    return filter_dict\n",
    "\n",
    "def intent_based_price_filtering(query):\n",
    "    \"\"\"사용자 의도 분석을 통한 필터링\"\"\"\n",
    "\n",
    "    filter_dict = {}\n",
    "\n",
    "    # 가격 필터링을 위한 정규표현식 패턴\n",
    "    # 1) N만원 이상 | N만원 부터\n",
    "    price_pattern = r'(\\d+)만원\\s*(이상|부터)'\n",
    "    price_match = re.search(price_pattern, query)\n",
    "    \n",
    "    if price_match:\n",
    "        # SALE_PRC 키가 없으면 생성\n",
    "        if \"SALE_PRC\" not in filter_dict:\n",
    "            filter_dict[\"SALE_PRC\"] = {}\n",
    "        # 만원 단위를 원 단위로 변환 (예: 120만원 -> 1200000원)\n",
    "        filter_dict[\"SALE_PRC\"][\"$gte\"] = int(price_match.group(1)) * 10000\n",
    "    \n",
    "    # 2) N만원 이하 | N만원 까지\n",
    "    price_pattern_lte = r'(\\d+)만원\\s*(이하|까지)'\n",
    "    price_match_lte = re.search(price_pattern_lte, query)\n",
    "    \n",
    "    if price_match_lte:\n",
    "        if \"SALE_PRC\" not in filter_dict:\n",
    "            filter_dict[\"SALE_PRC\"] = {}\n",
    "        filter_dict[\"SALE_PRC\"][\"$lte\"] = int(price_match_lte.group(1)) * 10000\n",
    "\n",
    "    # 3) N만원 대\n",
    "    price_pattern_range = r'(\\d+)만원\\s*대'\n",
    "    price_match_range = re.search(price_pattern_range, query)\n",
    "    \n",
    "    if price_match_range:\n",
    "        if \"SALE_PRC\" not in filter_dict:\n",
    "            filter_dict[\"SALE_PRC\"] = {}\n",
    "        base_price = int(price_match_range.group(1)) * 10000\n",
    "        filter_dict[\"SALE_PRC\"][\"$gte\"] = base_price\n",
    "        filter_dict[\"SALE_PRC\"][\"$lt\"] = base_price * 2\n",
    "\n",
    "    return filter_dict\n"
   ]
  },
  {
   "cell_type": "code",
   "execution_count": 2,
   "metadata": {},
   "outputs": [
    {
     "name": "stdout",
     "output_type": "stream",
     "text": [
      "{'SALE_PRC': {'$gte': 1000000, '$lte': 1200000}}\n"
     ]
    }
   ],
   "source": [
    "query = '100만원이상 120만원 이하 로소청소기'\n",
    "\n",
    "print(intent_based_filtering(query))"
   ]
  }
 ],
 "metadata": {
  "kernelspec": {
   "display_name": "embedding-ota6bejb-py3.11",
   "language": "python",
   "name": "python3"
  },
  "language_info": {
   "codemirror_mode": {
    "name": "ipython",
    "version": 3
   },
   "file_extension": ".py",
   "mimetype": "text/x-python",
   "name": "python",
   "nbconvert_exporter": "python",
   "pygments_lexer": "ipython3",
   "version": "3.11.9"
  }
 },
 "nbformat": 4,
 "nbformat_minor": 2
}
