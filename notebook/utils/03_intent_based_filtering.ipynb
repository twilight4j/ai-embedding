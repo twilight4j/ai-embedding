{
 "cells": [
  {
   "cell_type": "code",
   "execution_count": 1,
   "metadata": {},
   "outputs": [],
   "source": [
    "import re\n",
    "\n",
    "def price_filter_with_custom(query):\n",
    "    \"\"\"사용자 의도 분석을 통한 필터링\"\"\"\n",
    "\n",
    "    filter_dict = {}\n",
    "\n",
    "    # 가격 필터링을 위한 정규표현식 패턴\n",
    "    # 1) N만원 이상 | N만원 부터\n",
    "    price_pattern = r'(\\d+)만원\\s*(이상|부터)'\n",
    "    price_match = re.search(price_pattern, query)\n",
    "    \n",
    "    if price_match:\n",
    "        # SALE_PRC 키가 없으면 생성\n",
    "        if \"SALE_PRC\" not in filter_dict:\n",
    "            filter_dict[\"SALE_PRC\"] = {}\n",
    "        # 만원 단위를 원 단위로 변환 (예: 120만원 -> 1200000원)\n",
    "        filter_dict[\"SALE_PRC\"][\"$gte\"] = int(price_match.group(1)) * 10000\n",
    "    \n",
    "    # 2) N만원 이하 | N만원 까지\n",
    "    price_pattern_lte = r'(\\d+)만원\\s*(이하|까지)'\n",
    "    price_match_lte = re.search(price_pattern_lte, query)\n",
    "    \n",
    "    if price_match_lte:\n",
    "        if \"SALE_PRC\" not in filter_dict:\n",
    "            filter_dict[\"SALE_PRC\"] = {}\n",
    "        filter_dict[\"SALE_PRC\"][\"$lte\"] = int(price_match_lte.group(1)) * 10000\n",
    "\n",
    "    # 3) N만원 대\n",
    "    price_pattern_range = r'(\\d+)만원\\s*대'\n",
    "    price_match_range = re.search(price_pattern_range, query)\n",
    "    \n",
    "    if price_match_range:\n",
    "        if \"SALE_PRC\" not in filter_dict:\n",
    "            filter_dict[\"SALE_PRC\"] = {}\n",
    "        base_price = int(price_match_range.group(1)) * 10000\n",
    "        filter_dict[\"SALE_PRC\"][\"$gte\"] = base_price\n",
    "        filter_dict[\"SALE_PRC\"][\"$lt\"] = base_price * 2\n",
    "\n",
    "    return filter_dict\n"
   ]
  },
  {
   "cell_type": "code",
   "execution_count": 9,
   "metadata": {},
   "outputs": [],
   "source": [
    "import re\n",
    "\n",
    "def price_filter_with_llm(intent):\n",
    "    filter_dict = {}\n",
    "    # 가격\n",
    "    if \"SALE_PRC\" not in filter_dict:\n",
    "        filter_dict[\"SALE_PRC\"] = {}\n",
    "    filter_dict[\"SALE_PRC\"][\"$gte\"] = intent[\"SALE_PRC_GTE\"]\n",
    "    filter_dict[\"SALE_PRC\"][\"$lte\"] = intent[\"SALE_PRC_LTE\"]\n",
    "    return filter_dict\n",
    "\n",
    "def brand_filter_with_llm(intent):\n",
    "    filter_dict = {}\n",
    "    # 브랜드\n",
    "    filter_dict[\"BRND_NM\"] = intent[\"BRND_NM\"]\n",
    "    return filter_dict\n",
    "\n",
    "def artc_filter_with_llm(intent):\n",
    "    filter_dict = {}\n",
    "    # 품목\n",
    "    filter_dict[\"ARTC_NM\"] = intent[\"ARTC_NM\"]\n",
    "    return filter_dict\n",
    "\n",
    "def category_filter_with_llm(intent):\n",
    "    filter_dict = {}\n",
    "    # 카테고리\n",
    "    filter_dict[\"CATEGORY_NM\"] = intent[\"CATEGORY_NM\"]\n",
    "    return filter_dict\n",
    "\n",
    "def features_filter_with_llm(intent):\n",
    "    filter_dict = {}\n",
    "    # 주요 기능 및 특징\n",
    "    filter_dict[\"FEATURES\"] = intent[\"FEATURES\"]\n",
    "    return filter_dict"
   ]
  },
  {
   "cell_type": "code",
   "execution_count": 10,
   "metadata": {},
   "outputs": [],
   "source": [
    "# 의도 기반 필터링 함수 선언\n",
    "def intent_based_filtering(query, intent):\n",
    "    \"\"\"사용자 의도 분석을 통한 필터링\"\"\"\n",
    "\n",
    "    filter_dict = {}\n",
    "\n",
    "    # 가격 필터\n",
    "    filter_dict.update(price_filter_with_custom(query) or price_filter_with_llm(intent))\n",
    "\n",
    "    # 브랜드 필터\n",
    "    filter_dict.update(brand_filter_with_llm(intent))\n",
    "\n",
    "    # 카테고리 필터\n",
    "    filter_dict.update(category_filter_with_llm(intent))\n",
    "\n",
    "    # 품목 필터\n",
    "    filter_dict.update(artc_filter_with_llm(intent))\n",
    "\n",
    "    # 주요 기능 및 특징 필터\n",
    "    filter_dict.update(features_filter_with_llm(intent))\n",
    "\n",
    "    return filter_dict"
   ]
  },
  {
   "cell_type": "code",
   "execution_count": 11,
   "metadata": {},
   "outputs": [
    {
     "name": "stdout",
     "output_type": "stream",
     "text": [
      "{'SALE_PRC': {'$gte': 50000}, 'BRND_NM': '', 'CATEGORY_NM': '컴퓨터 주변기기', 'ARTC_NM': '마우스', 'FEATURES': '블루투스'}\n",
      "{'SALE_PRC': {'$gte': 0, '$lte': 10000000}, 'BRND_NM': '', 'CATEGORY_NM': '가전', 'ARTC_NM': '냉장고', 'FEATURES': '4인 가족용'}\n"
     ]
    }
   ],
   "source": [
    "query = '5만원 이상 블루투스 마우스'\n",
    "intent = {'SALE_PRC_GTE': 50000, 'SALE_PRC_LTE': 10000000, 'BRND_NM': '', 'ARTC_NM': '마우스', 'CATEGORY_NM': '컴퓨터 주변기기', 'FEATURES': '블루투스'}\n",
    "print(intent_based_filtering(query, intent))\n",
    "\n",
    "query = '4인 가족 냉장고 추천'\n",
    "intent = {'SALE_PRC_GTE': 0, 'SALE_PRC_LTE': 10000000, 'BRND_NM': '', 'ARTC_NM': '냉장고', 'CATEGORY_NM': '가전', 'FEATURES': '4인 가족용'}\n",
    "print(intent_based_filtering(query, intent))"
   ]
  }
 ],
 "metadata": {
  "kernelspec": {
   "display_name": "embedding-ota6bejb-py3.11",
   "language": "python",
   "name": "python3"
  },
  "language_info": {
   "codemirror_mode": {
    "name": "ipython",
    "version": 3
   },
   "file_extension": ".py",
   "mimetype": "text/x-python",
   "name": "python",
   "nbconvert_exporter": "python",
   "pygments_lexer": "ipython3",
   "version": "3.11.9"
  }
 },
 "nbformat": 4,
 "nbformat_minor": 2
}
