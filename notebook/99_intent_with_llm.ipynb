{
 "cells": [
  {
   "cell_type": "code",
   "execution_count": 3,
   "metadata": {},
   "outputs": [
    {
     "data": {
      "text/plain": [
       "True"
      ]
     },
     "execution_count": 3,
     "metadata": {},
     "output_type": "execute_result"
    }
   ],
   "source": [
    "from dotenv import load_dotenv\n",
    "\n",
    "# API 키 정보 로드\n",
    "load_dotenv()"
   ]
  },
  {
   "cell_type": "code",
   "execution_count": 4,
   "metadata": {},
   "outputs": [],
   "source": [
    "# 라이브러리 선언\n",
    "from langchain_openai import ChatOpenAI\n",
    "from langchain_core.output_parsers import StrOutputParser\n",
    "from langchain_core.runnables import RunnablePassthrough\n",
    "from langchain_core.prompts import PromptTemplate, ChatPromptTemplate\n",
    "from langchain_core.output_parsers import JsonOutputParser\n",
    "from pydantic import BaseModel, Field"
   ]
  },
  {
   "cell_type": "code",
   "execution_count": 5,
   "metadata": {},
   "outputs": [],
   "source": [
    "# OpenAI 객체를 생성합니다.\n",
    "model = ChatOpenAI(temperature=0, model_name=\"gpt-4.1-mini\")"
   ]
  },
  {
   "cell_type": "code",
   "execution_count": 28,
   "metadata": {},
   "outputs": [],
   "source": [
    "# 원하는 데이터 구조를 정의합니다.\n",
    "class Filter(BaseModel):\n",
    "    SALE_PRC_GTE: int = Field(description=\"가격범위 최소값. 예를 들어 100만원 이상 120만원 이하이면, 1000000\")\n",
    "    SALE_PRC_LTE: int = Field(description=\"가격범위 최대값. 예를 들어 100만원 이상 120만원 이하이면, 1200000\")\n",
    "    BRND_NM: str = Field(description=\"브랜드명\")\n",
    "    ARTC_NM: str = Field(description=\"품목\")\n",
    "    CATEGORY_NM: str = Field(description=\"카테고리명\")\n",
    "    FEATURES: str = Field(description=\"주요기능\")\n",
    "\n",
    "# {'SALE_PRC': {'$gte': 1000000, '$lte': 1200000}}"
   ]
  },
  {
   "cell_type": "code",
   "execution_count": 29,
   "metadata": {},
   "outputs": [
    {
     "name": "stdout",
     "output_type": "stream",
     "text": [
      "The output should be formatted as a JSON instance that conforms to the JSON schema below.\n",
      "\n",
      "As an example, for the schema {\"properties\": {\"foo\": {\"title\": \"Foo\", \"description\": \"a list of strings\", \"type\": \"array\", \"items\": {\"type\": \"string\"}}}, \"required\": [\"foo\"]}\n",
      "the object {\"foo\": [\"bar\", \"baz\"]} is a well-formatted instance of the schema. The object {\"properties\": {\"foo\": [\"bar\", \"baz\"]}} is not well-formatted.\n",
      "\n",
      "Here is the output schema:\n",
      "```\n",
      "{\"properties\": {\"SALE_PRC_GTE\": {\"description\": \"가격범위 최소값. 예를 들어 100만원 이상 120만원 이하이면, 1000000\", \"title\": \"Sale Prc Gte\", \"type\": \"integer\"}, \"SALE_PRC_LTE\": {\"description\": \"가격범위 최대값. 예를 들어 100만원 이상 120만원 이하이면, 1200000\", \"title\": \"Sale Prc Lte\", \"type\": \"integer\"}, \"BRND_NM\": {\"description\": \"브랜드명\", \"title\": \"Brnd Nm\", \"type\": \"string\"}, \"ARTC_NM\": {\"description\": \"품목\", \"title\": \"Artc Nm\", \"type\": \"string\"}, \"CATEGORY_NM\": {\"description\": \"카테고리명\", \"title\": \"Category Nm\", \"type\": \"string\"}, \"FEATURES\": {\"description\": \"주요기능\", \"title\": \"Features\", \"type\": \"string\"}}, \"required\": [\"SALE_PRC_GTE\", \"SALE_PRC_LTE\", \"BRND_NM\", \"ARTC_NM\", \"CATEGORY_NM\", \"FEATURES\"]}\n",
      "```\n"
     ]
    }
   ],
   "source": [
    "# 파서를 설정하고 프롬프트 템플릿에 지시사항을 주입합니다.\n",
    "parser = JsonOutputParser(pydantic_object=Filter)\n",
    "print(parser.get_format_instructions())"
   ]
  },
  {
   "cell_type": "code",
   "execution_count": 30,
   "metadata": {},
   "outputs": [],
   "source": [
    "\n",
    "# 프롬프트를 생성합니다.\n",
    "prompt = ChatPromptTemplate.from_messages(\n",
    "    [\n",
    "        (\"system\", \"당신은 가전 전문 e커머스 검색 AI 어시스턴트 입니다. 사용자의 자연어 검색어를 분석하여, 그 의도에 맞는 최적의 검색 필터 조건을 완성해야 합니다.\"),\n",
    "        (\"user\", \"#Format: {format_instructions}\\n\\n#Question: {query}\"),\n",
    "    ]\n",
    ")\n",
    "\n",
    "prompt = prompt.partial(format_instructions=parser.get_format_instructions())\n",
    "\n",
    "# 체인을 구성합니다.\n",
    "chain = prompt | model | parser"
   ]
  },
  {
   "cell_type": "code",
   "execution_count": 31,
   "metadata": {},
   "outputs": [
    {
     "name": "stdout",
     "output_type": "stream",
     "text": [
      "5만원 이상 블루투스 마우스: {'SALE_PRC_GTE': 50000, 'SALE_PRC_LTE': 10000000, 'BRND_NM': '', 'ARTC_NM': '마우스', 'CATEGORY_NM': '컴퓨터 주변기기', 'FEATURES': '블루투스'}\n",
      "4인 가족 냉장고 추천: {'SALE_PRC_GTE': 0, 'SALE_PRC_LTE': 10000000, 'BRND_NM': '', 'ARTC_NM': '냉장고', 'CATEGORY_NM': '가전', 'FEATURES': '4인 가족용'}\n",
      "원룸용 세탁기: {'SALE_PRC_GTE': 0, 'SALE_PRC_LTE': 1000000, 'BRND_NM': '', 'ARTC_NM': '세탁기', 'CATEGORY_NM': '가전', 'FEATURES': '원룸용, 소형, 컴팩트'}\n",
      "게이밍용 고성능 모니터: {'SALE_PRC_GTE': 300000, 'SALE_PRC_LTE': 1000000, 'BRND_NM': '', 'ARTC_NM': '모니터', 'CATEGORY_NM': '컴퓨터/노트북/주변기기', 'FEATURES': '게이밍, 고성능'}\n",
      "신혼부부용 가전세트: {'SALE_PRC_GTE': 500000, 'SALE_PRC_LTE': 3000000, 'BRND_NM': '', 'ARTC_NM': '가전세트', 'CATEGORY_NM': '신혼부부용 가전', 'FEATURES': '신혼부부용, 세트구성, 필수가전'}\n",
      "로보락 로봇청소기 추천: {'SALE_PRC_GTE': 0, 'SALE_PRC_LTE': 10000000, 'BRND_NM': '로보락', 'ARTC_NM': '로봇청소기', 'CATEGORY_NM': '청소기', 'FEATURES': ''}\n",
      "4K HDR 지원 55인치 TV: {'SALE_PRC_GTE': 0, 'SALE_PRC_LTE': 100000000, 'BRND_NM': '', 'ARTC_NM': 'TV', 'CATEGORY_NM': 'TV', 'FEATURES': '4K HDR, 55인치'}\n",
      "20만원대 스팀 다리미: {'SALE_PRC_GTE': 200000, 'SALE_PRC_LTE': 299999, 'BRND_NM': '', 'ARTC_NM': '다리미', 'CATEGORY_NM': '스팀 다리미', 'FEATURES': '스팀'}\n",
      "인덕션 3구 전기레인지: {'SALE_PRC_GTE': 0, 'SALE_PRC_LTE': 10000000, 'BRND_NM': '', 'ARTC_NM': '전기레인지', 'CATEGORY_NM': '인덕션', 'FEATURES': '3구'}\n",
      "조용하고 전기요금 적게 나오는 에어컨: {'SALE_PRC_GTE': 0, 'SALE_PRC_LTE': 10000000, 'BRND_NM': '', 'ARTC_NM': '에어컨', 'CATEGORY_NM': '가전제품', 'FEATURES': '저소음, 에너지 효율'}\n",
      "에어컨 클리닝: {'SALE_PRC_GTE': 0, 'SALE_PRC_LTE': 1000000, 'BRND_NM': '', 'ARTC_NM': '에어컨', 'CATEGORY_NM': '클리닝', 'FEATURES': '청소'}\n"
     ]
    }
   ],
   "source": [
    "# 체인을 호출하여 쿼리 실행\n",
    "queries = []\n",
    "intents = []\n",
    "\n",
    "query = \"5만원 이상 블루투스 마우스\"\n",
    "answer = chain.invoke({\"query\": query})\n",
    "print(f\"{query}: {answer}\")\n",
    "queries.append(query)\n",
    "intents.append(answer)\n",
    "\n",
    "query = \"4인 가족 냉장고 추천\"\n",
    "answer = chain.invoke({\"query\": query})\n",
    "print(f\"{query}: {answer}\")\n",
    "queries.append(query)\n",
    "intents.append(answer)\n",
    "\n",
    "query = \"원룸용 세탁기\"\n",
    "answer = chain.invoke({\"query\": query})\n",
    "print(f\"{query}: {answer}\")\n",
    "queries.append(query)\n",
    "intents.append(answer)\n",
    "\n",
    "query = \"게이밍용 고성능 모니터\"\n",
    "answer = chain.invoke({\"query\": query})\n",
    "print(f\"{query}: {answer}\")\n",
    "queries.append(query)\n",
    "intents.append(answer)\n",
    "\n",
    "query = \"신혼부부용 가전세트\"\n",
    "answer = chain.invoke({\"query\": query})\n",
    "print(f\"{query}: {answer}\")\n",
    "queries.append(query)\n",
    "intents.append(answer)\n",
    "\n",
    "query = \"로보락 로봇청소기 추천\"\n",
    "answer = chain.invoke({\"query\": query})\n",
    "print(f\"{query}: {answer}\")\n",
    "queries.append(query)\n",
    "intents.append(answer)\n",
    "\n",
    "query = \"4K HDR 지원 55인치 TV\"\n",
    "answer = chain.invoke({\"query\": query})\n",
    "print(f\"{query}: {answer}\")\n",
    "queries.append(query)\n",
    "intents.append(answer)\n",
    "\n",
    "query = \"20만원대 스팀 다리미\"\n",
    "answer = chain.invoke({\"query\": query})\n",
    "print(f\"{query}: {answer}\")\n",
    "queries.append(query)\n",
    "intents.append(answer)\n",
    "\n",
    "query = \"인덕션 3구 전기레인지\"\n",
    "answer = chain.invoke({\"query\": query})\n",
    "print(f\"{query}: {answer}\")\n",
    "queries.append(query)\n",
    "intents.append(answer)\n",
    "\n",
    "query = \"조용하고 전기요금 적게 나오는 에어컨\"\n",
    "answer = chain.invoke({\"query\": query})\n",
    "print(f\"{query}: {answer}\")\n",
    "queries.append(query)\n",
    "intents.append(answer)\n",
    "\n",
    "query = \"에어컨 클리닝\"\n",
    "answer = chain.invoke({\"query\": query})\n",
    "print(f\"{query}: {answer}\")\n",
    "queries.append(query)\n",
    "intents.append(answer)"
   ]
  },
  {
   "cell_type": "code",
   "execution_count": null,
   "metadata": {},
   "outputs": [
    {
     "name": "stdout",
     "output_type": "stream",
     "text": [
      "{'SALE_PRC': {'$gte': 50000, '$lte': None}, 'BRND_NM': '', 'ARTC_NM': '마우스', 'CATEGORY_NM': '컴퓨터 주변기기', 'FEATURES': '블루투스'}\n",
      "{'SALE_PRC': {'$gte': 500000, '$lte': 3000000}, 'BRND_NM': '', 'ARTC_NM': '냉장고', 'CATEGORY_NM': '주방가전', 'FEATURES': '4인 가족용, 대용량'}\n",
      "{'SALE_PRC': {'$gte': 100000, '$lte': 500000}, 'BRND_NM': '', 'ARTC_NM': '세탁기', 'CATEGORY_NM': '생활가전', 'FEATURES': '원룸용, 소형'}\n",
      "{'SALE_PRC': {'$gte': 500000, '$lte': 2000000}, 'BRND_NM': '', 'ARTC_NM': '모니터', 'CATEGORY_NM': '컴퓨터/노트북/주변기기', 'FEATURES': '게이밍, 고성능'}\n",
      "{'SALE_PRC': {'$gte': 500000, '$lte': 3000000}, 'BRND_NM': '', 'ARTC_NM': '가전세트', 'CATEGORY_NM': '신혼부부용', 'FEATURES': '기본가전, 실용적, 경제적'}\n",
      "{'SALE_PRC': {'$gte': 0, '$lte': 10000000}, 'BRND_NM': '국산', 'ARTC_NM': '로봇청소기', 'CATEGORY_NM': '청소기', 'FEATURES': ''}\n",
      "{'SALE_PRC': {'$gte': 0, '$lte': 100000000}, 'BRND_NM': '', 'ARTC_NM': 'TV', 'CATEGORY_NM': '55인치', 'FEATURES': '4K HDR'}\n",
      "{'SALE_PRC': {'$gte': 200000, '$lte': 299999}, 'BRND_NM': '', 'ARTC_NM': '다리미', 'CATEGORY_NM': '스팀다리미', 'FEATURES': '스팀'}\n",
      "{'SALE_PRC': {'$gte': 0, '$lte': 10000000}, 'BRND_NM': '', 'ARTC_NM': '전기레인지', 'CATEGORY_NM': '인덕션', 'FEATURES': '3구'}\n",
      "{'SALE_PRC': {'$gte': 0, '$lte': 10000000}, 'BRND_NM': '', 'ARTC_NM': '에어컨', 'CATEGORY_NM': '에어컨', 'FEATURES': '조용함, 전기요금 절감'}\n",
      "{'SALE_PRC': {'$gte': 0, '$lte': 10000000}, 'BRND_NM': '', 'ARTC_NM': '에어컨', 'CATEGORY_NM': '클리닝', 'FEATURES': '클리닝'}\n",
      "{'SALE_PRC': {'$gte': 0, '$lte': 100000000}, 'BRND_NM': '삼성', 'ARTC_NM': '', 'CATEGORY_NM': '', 'FEATURES': ''}\n"
     ]
    }
   ],
   "source": [
    "query = \"삼성\"\n",
    "answer = chain.invoke({\"query\": query})\n",
    "queries.append(query)\n",
    "intents.append(answer)\n",
    "\n",
    "import re\n",
    "\n",
    "for intent in intents):\n",
    "    # print(f\"{query} : {intent}\")\n",
    "\n",
    "    filter_dict = {}\n",
    "\n",
    "    # 가격\n",
    "    if \"SALE_PRC\" not in filter_dict:\n",
    "        filter_dict[\"SALE_PRC\"] = {}\n",
    "\n",
    "    filter_dict[\"SALE_PRC\"][\"$gte\"] = intent[\"SALE_PRC_GTE\"]\n",
    "    filter_dict[\"SALE_PRC\"][\"$lte\"] = intent[\"SALE_PRC_LTE\"]\n",
    "\n",
    "    # 브랜드\n",
    "    filter_dict[\"BRND_NM\"] = intent[\"BRND_NM\"]\n",
    "\n",
    "    # 품목\n",
    "    filter_dict[\"ARTC_NM\"] = intent[\"ARTC_NM\"]\n",
    "\n",
    "    # 카테고리\n",
    "    filter_dict[\"CATEGORY_NM\"] = intent[\"CATEGORY_NM\"]\n",
    "\n",
    "    # 주요 기능 및 특징\n",
    "    filter_dict[\"FEATURES\"] = intent[\"FEATURES\"]\n",
    "\n",
    "    print(filter_dict)"
   ]
  }
 ],
 "metadata": {
  "kernelspec": {
   "display_name": "embedding-ota6bejb-py3.11",
   "language": "python",
   "name": "python3"
  },
  "language_info": {
   "codemirror_mode": {
    "name": "ipython",
    "version": 3
   },
   "file_extension": ".py",
   "mimetype": "text/x-python",
   "name": "python",
   "nbconvert_exporter": "python",
   "pygments_lexer": "ipython3",
   "version": "3.11.9"
  }
 },
 "nbformat": 4,
 "nbformat_minor": 2
}
