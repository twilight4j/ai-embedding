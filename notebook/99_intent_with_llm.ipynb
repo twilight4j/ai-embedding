{
 "cells": [
  {
   "cell_type": "code",
   "execution_count": 1,
   "metadata": {},
   "outputs": [
    {
     "data": {
      "text/plain": [
       "True"
      ]
     },
     "execution_count": 1,
     "metadata": {},
     "output_type": "execute_result"
    }
   ],
   "source": [
    "from dotenv import load_dotenv\n",
    "\n",
    "# API 키 정보 로드\n",
    "load_dotenv()"
   ]
  },
  {
   "cell_type": "code",
   "execution_count": 2,
   "metadata": {},
   "outputs": [],
   "source": [
    "# 라이브러리 선언\n",
    "from langchain_openai import ChatOpenAI\n",
    "from langchain_core.output_parsers import StrOutputParser\n",
    "from langchain_core.runnables import RunnablePassthrough\n",
    "from langchain_core.prompts import PromptTemplate, ChatPromptTemplate\n",
    "from langchain_core.output_parsers import JsonOutputParser\n",
    "from pydantic import BaseModel, Field"
   ]
  },
  {
   "cell_type": "code",
   "execution_count": 7,
   "metadata": {},
   "outputs": [],
   "source": [
    "# OpenAI 객체를 생성합니다.\n",
    "model = ChatOpenAI(temperature=0, model_name=\"gpt-4.1-mini\")"
   ]
  },
  {
   "cell_type": "code",
   "execution_count": 24,
   "metadata": {},
   "outputs": [],
   "source": [
    "# 원하는 데이터 구조를 정의합니다.\n",
    "class Filter(BaseModel):\n",
    "    SALE_PRC: str = Field(description=\"가격 범위. 예를 들어 100만원 이상 120만원 이하이면, '$gte': 1000000, '$lte': 1200000\")\n",
    "    BRND_NM: str = Field(description=\"브랜드명\")\n",
    "    ARTC_NM: str = Field(description=\"품목\")\n",
    "    CATEGORY_NM: str = Field(description=\"카테고리명\")\n",
    "    FEATURES: str = Field(description=\"주요기능\")\n",
    "\n",
    "# {'SALE_PRC': {'$gte': 1000000, '$lte': 1200000}}"
   ]
  },
  {
   "cell_type": "code",
   "execution_count": 25,
   "metadata": {},
   "outputs": [
    {
     "name": "stdout",
     "output_type": "stream",
     "text": [
      "The output should be formatted as a JSON instance that conforms to the JSON schema below.\n",
      "\n",
      "As an example, for the schema {\"properties\": {\"foo\": {\"title\": \"Foo\", \"description\": \"a list of strings\", \"type\": \"array\", \"items\": {\"type\": \"string\"}}}, \"required\": [\"foo\"]}\n",
      "the object {\"foo\": [\"bar\", \"baz\"]} is a well-formatted instance of the schema. The object {\"properties\": {\"foo\": [\"bar\", \"baz\"]}} is not well-formatted.\n",
      "\n",
      "Here is the output schema:\n",
      "```\n",
      "{\"properties\": {\"SALE_PRC\": {\"description\": \"가격 범위. 예를 들어 100만원 이상 120만원 이하이면, '$gte': 1000000, '$lte': 1200000\", \"title\": \"Sale Prc\", \"type\": \"string\"}, \"BRND_NM\": {\"description\": \"브랜드명\", \"title\": \"Brnd Nm\", \"type\": \"string\"}, \"ARTC_NM\": {\"description\": \"품목\", \"title\": \"Artc Nm\", \"type\": \"string\"}, \"CATEGORY_NM\": {\"description\": \"카테고리명\", \"title\": \"Category Nm\", \"type\": \"string\"}, \"FEATURES\": {\"description\": \"주요기능\", \"title\": \"Features\", \"type\": \"string\"}}, \"required\": [\"SALE_PRC\", \"BRND_NM\", \"ARTC_NM\", \"CATEGORY_NM\", \"FEATURES\"]}\n",
      "```\n"
     ]
    }
   ],
   "source": [
    "# 파서를 설정하고 프롬프트 템플릿에 지시사항을 주입합니다.\n",
    "parser = JsonOutputParser(pydantic_object=Filter)\n",
    "print(parser.get_format_instructions())"
   ]
  },
  {
   "cell_type": "code",
   "execution_count": 26,
   "metadata": {},
   "outputs": [],
   "source": [
    "\n",
    "# 프롬프트를 생성합니다.\n",
    "prompt = ChatPromptTemplate.from_messages(\n",
    "    [\n",
    "        (\"system\", \"당신은 가전전문 e커머스 검색 AI 어시스턴트 입니다. 사용자의 자연어 검색어를 받아, 그 의도를 분석하여 검색 필터 조건을 완성합니다.\"),\n",
    "        (\"user\", \"#Format: {format_instructions}\\n\\n#Question: {query}\"),\n",
    "    ]\n",
    ")\n",
    "\n",
    "prompt = prompt.partial(format_instructions=parser.get_format_instructions())\n",
    "\n",
    "# 체인을 구성합니다.\n",
    "chain = prompt | model | parser"
   ]
  },
  {
   "cell_type": "code",
   "execution_count": 27,
   "metadata": {},
   "outputs": [
    {
     "name": "stdout",
     "output_type": "stream",
     "text": [
      "5만원 이상 블루투스 마우스: {'SALE_PRC': '$gte: 50000', 'BRND_NM': '', 'ARTC_NM': '마우스', 'CATEGORY_NM': '블루투스 마우스', 'FEATURES': '블루투스'}\n",
      "4인 가족 냉장고 추천: {'SALE_PRC': '', 'BRND_NM': '', 'ARTC_NM': '냉장고', 'CATEGORY_NM': '가전제품', 'FEATURES': '4인 가족'}\n",
      "원룸용 세탁기: {'SALE_PRC': '', 'BRND_NM': '', 'ARTC_NM': '세탁기', 'CATEGORY_NM': '원룸용', 'FEATURES': ''}\n",
      "게이밍용 고성능 모니터: {'SALE_PRC': '', 'BRND_NM': '', 'ARTC_NM': '모니터', 'CATEGORY_NM': '컴퓨터/노트북/주변기기', 'FEATURES': '게이밍, 고성능'}\n",
      "신혼부부용 가전세트: {'SALE_PRC': '', 'BRND_NM': '', 'ARTC_NM': '가전세트', 'CATEGORY_NM': '신혼부부용', 'FEATURES': ''}\n",
      "국산 로봇청소기 추천: {'SALE_PRC': '', 'BRND_NM': '국산', 'ARTC_NM': '로봇청소기', 'CATEGORY_NM': '청소기', 'FEATURES': ''}\n",
      "4K HDR 지원 55인치 TV: {'SALE_PRC': '', 'BRND_NM': '', 'ARTC_NM': 'TV', 'CATEGORY_NM': 'TV', 'FEATURES': '4K HDR, 55인치'}\n",
      "20만원대 스팀 다리미: {'SALE_PRC': '$gte:200000, $lt:300000', 'BRND_NM': '', 'ARTC_NM': '다리미', 'CATEGORY_NM': '스팀다리미', 'FEATURES': '스팀'}\n",
      "인덕션 3구 전기레인지: {'SALE_PRC': '', 'BRND_NM': '', 'ARTC_NM': '전기레인지', 'CATEGORY_NM': '인덕션', 'FEATURES': '3구'}\n",
      "조용하고 전기요금 적게 나오는 에어컨: {'SALE_PRC': '최소', 'BRND_NM': '', 'ARTC_NM': '에어컨', 'CATEGORY_NM': '에어컨', 'FEATURES': '저소음, 에너지 효율'}\n",
      "자동급수 가능한 로봇청소기: {'SALE_PRC': '', 'BRND_NM': '', 'ARTC_NM': '로봇청소기', 'CATEGORY_NM': '', 'FEATURES': '자동급수'}\n"
     ]
    }
   ],
   "source": [
    "# 체인을 호출하여 쿼리 실행\n",
    "query = \"5만원 이상 블루투스 마우스\"\n",
    "answer = chain.invoke({\"query\": query})\n",
    "print(f\"{query}: {answer}\")\n",
    "\n",
    "query = \"4인 가족 냉장고 추천\"\n",
    "answer = chain.invoke({\"query\": query})\n",
    "print(f\"{query}: {answer}\")\n",
    "\n",
    "query = \"원룸용 세탁기\"\n",
    "answer = chain.invoke({\"query\": query})\n",
    "print(f\"{query}: {answer}\")\n",
    "\n",
    "query = \"게이밍용 고성능 모니터\"\n",
    "answer = chain.invoke({\"query\": query})\n",
    "print(f\"{query}: {answer}\")\n",
    "\n",
    "query = \"신혼부부용 가전세트\"\n",
    "answer = chain.invoke({\"query\": query})\n",
    "print(f\"{query}: {answer}\")\n",
    "\n",
    "query = \"국산 로봇청소기 추천\"\n",
    "answer = chain.invoke({\"query\": query})\n",
    "print(f\"{query}: {answer}\")\n",
    "\n",
    "query = \"4K HDR 지원 55인치 TV\"\n",
    "answer = chain.invoke({\"query\": query})\n",
    "print(f\"{query}: {answer}\")\n",
    "\n",
    "query = \"20만원대 스팀 다리미\"\n",
    "answer = chain.invoke({\"query\": query})\n",
    "print(f\"{query}: {answer}\")\n",
    "\n",
    "query = \"인덕션 3구 전기레인지\"\n",
    "answer = chain.invoke({\"query\": query})\n",
    "print(f\"{query}: {answer}\")\n",
    "\n",
    "query = \"조용하고 전기요금 적게 나오는 에어컨\"\n",
    "answer = chain.invoke({\"query\": query})\n",
    "print(f\"{query}: {answer}\")\n",
    "\n",
    "query = \"자동급수 가능한 로봇청소기\"\n",
    "answer = chain.invoke({\"query\": query})\n",
    "print(f\"{query}: {answer}\")\n",
    "\n",
    "\n"
   ]
  }
 ],
 "metadata": {
  "kernelspec": {
   "display_name": "embedding-ota6bejb-py3.11",
   "language": "python",
   "name": "python3"
  },
  "language_info": {
   "codemirror_mode": {
    "name": "ipython",
    "version": 3
   },
   "file_extension": ".py",
   "mimetype": "text/x-python",
   "name": "python",
   "nbconvert_exporter": "python",
   "pygments_lexer": "ipython3",
   "version": "3.11.9"
  }
 },
 "nbformat": 4,
 "nbformat_minor": 2
}
